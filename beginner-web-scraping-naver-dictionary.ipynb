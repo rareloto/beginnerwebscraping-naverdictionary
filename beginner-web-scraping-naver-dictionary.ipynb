{
 "cells": [
  {
   "cell_type": "markdown",
   "execution_count": null,
   "metadata": {
    "papermill": {
     "duration": 0.016991,
     "end_time": "2020-08-18T06:28:35.199034",
     "exception": false,
     "start_time": "2020-08-18T06:28:35.182043",
     "status": "completed"
    },
    "tags": []
   },
   "source": [
    "# Naver Conversation of the Day"
   ]
  },
  {
   "cell_type": "markdown",
   "execution_count": null,
   "metadata": {
    "papermill": {
     "duration": 0.018012,
     "end_time": "2020-08-18T06:28:35.234209",
     "exception": false,
     "start_time": "2020-08-18T06:28:35.216197",
     "status": "completed"
    },
    "tags": []
   },
   "source": [
    "![Conversation of the Day](https://raw.githubusercontent.com/rareloto/workspace/master/naverdictionary-conversationoftheday-scraper/naver-conversationoftheday-20200815-cropped.png)"
   ]
  },
  {
   "cell_type": "markdown",
   "execution_count": null,
   "metadata": {
    "papermill": {
     "duration": 0.017889,
     "end_time": "2020-08-18T06:28:35.270191",
     "exception": false,
     "start_time": "2020-08-18T06:28:35.252302",
     "status": "completed"
    },
    "tags": []
   },
   "source": [
    "Hi! Welcome to my notebook.\n",
    "\n",
    "I want to create a compilation of **Korean - English sentence pairs** from **Naver Dictionary's Conversation of the Day**.\n",
    "\n",
    "At first I thought, I could type them out one by one, day by day to reinforce my Korean language learning in addition to creating a dataset for future projects (*like maybe a bilingual AI chatbot*).\n",
    "\n",
    "But then, I remembered something called **'web scraping'**. Simply put, it is a technique of automatically extracting (*or scraping*) specific data you want from websites and saving them to a file or a database.\n",
    "\n",
    "In this notebook, I'm going to take my first dip in web scraping in order to compile months, years of 'Conversation of the Day' from [Naver Dictionary](https://learn.dict.naver.com/conversation#/korean-en)."
   ]
  },
  {
   "cell_type": "markdown",
   "execution_count": null,
   "metadata": {
    "papermill": {
     "duration": 0.014036,
     "end_time": "2020-08-18T06:28:35.301788",
     "exception": false,
     "start_time": "2020-08-18T06:28:35.287752",
     "status": "completed"
    },
    "tags": []
   },
   "source": [
    "# What I'm Expecting to Get From Scraping"
   ]
  },
  {
   "cell_type": "code",
   "execution_count": 1,
   "metadata": {
    "execution": {
     "iopub.execute_input": "2020-08-18T06:28:35.343735Z",
     "iopub.status.busy": "2020-08-18T06:28:35.342844Z",
     "iopub.status.idle": "2020-08-18T06:28:35.391030Z",
     "shell.execute_reply": "2020-08-18T06:28:35.390184Z"
    },
    "papermill": {
     "duration": 0.074689,
     "end_time": "2020-08-18T06:28:35.391169",
     "exception": false,
     "start_time": "2020-08-18T06:28:35.316480",
     "status": "completed"
    },
    "tags": []
   },
   "outputs": [
    {
     "data": {
      "text/html": [
       "<div>\n",
       "<style scoped>\n",
       "    .dataframe tbody tr th:only-of-type {\n",
       "        vertical-align: middle;\n",
       "    }\n",
       "\n",
       "    .dataframe tbody tr th {\n",
       "        vertical-align: top;\n",
       "    }\n",
       "\n",
       "    .dataframe thead th {\n",
       "        text-align: right;\n",
       "    }\n",
       "</style>\n",
       "<table border=\"1\" class=\"dataframe\">\n",
       "  <thead>\n",
       "    <tr style=\"text-align: right;\">\n",
       "      <th></th>\n",
       "      <th>date</th>\n",
       "      <th>conversation_id</th>\n",
       "      <th>kor_sent</th>\n",
       "      <th>eng_sent</th>\n",
       "    </tr>\n",
       "  </thead>\n",
       "  <tbody>\n",
       "    <tr>\n",
       "      <th>0</th>\n",
       "      <td>20200817</td>\n",
       "      <td>0</td>\n",
       "      <td></td>\n",
       "      <td></td>\n",
       "    </tr>\n",
       "    <tr>\n",
       "      <th>1</th>\n",
       "      <td>20200817</td>\n",
       "      <td>1</td>\n",
       "      <td>스티브 씨도 오늘 동호외 모임에 갈 가지요?</td>\n",
       "      <td>Mr. Steve, are you going to the club meeting?</td>\n",
       "    </tr>\n",
       "    <tr>\n",
       "      <th>2</th>\n",
       "      <td>20200817</td>\n",
       "      <td>2</td>\n",
       "      <td>서연 씨도 갈까요?</td>\n",
       "      <td>Is Ms. Seoyon going, too?</td>\n",
       "    </tr>\n",
       "    <tr>\n",
       "      <th>3</th>\n",
       "      <td>20200817</td>\n",
       "      <td>3</td>\n",
       "      <td>특별한 일이 없으니까 아마 갈 거예요.</td>\n",
       "      <td>Maybe she will go because she has nothing spec...</td>\n",
       "    </tr>\n",
       "    <tr>\n",
       "      <th>4</th>\n",
       "      <td>20200817</td>\n",
       "      <td>4</td>\n",
       "      <td>그럼 저도 갈게요.</td>\n",
       "      <td>Then, I will go, too.</td>\n",
       "    </tr>\n",
       "    <tr>\n",
       "      <th>5</th>\n",
       "      <td>20200817</td>\n",
       "      <td>5</td>\n",
       "      <td>혹시 서연 씨에게 관심 있는 거 아니에요?</td>\n",
       "      <td>By any chance, isn't it true that you are inte...</td>\n",
       "    </tr>\n",
       "    <tr>\n",
       "      <th>6</th>\n",
       "      <td>20200817</td>\n",
       "      <td>6</td>\n",
       "      <td>서연 씨에게 말하지 마세요. 비밀이에요</td>\n",
       "      <td>Don't tell Ms. Seoyon. It's a secret</td>\n",
       "    </tr>\n",
       "  </tbody>\n",
       "</table>\n",
       "</div>"
      ],
      "text/plain": [
       "       date  conversation_id                  kor_sent  \\\n",
       "0  20200817                0                             \n",
       "1  20200817                1  스티브 씨도 오늘 동호외 모임에 갈 가지요?   \n",
       "2  20200817                2                서연 씨도 갈까요?   \n",
       "3  20200817                3     특별한 일이 없으니까 아마 갈 거예요.   \n",
       "4  20200817                4                그럼 저도 갈게요.   \n",
       "5  20200817                5   혹시 서연 씨에게 관심 있는 거 아니에요?   \n",
       "6  20200817                6     서연 씨에게 말하지 마세요. 비밀이에요   \n",
       "\n",
       "                                            eng_sent  \n",
       "0                                                     \n",
       "1      Mr. Steve, are you going to the club meeting?  \n",
       "2                          Is Ms. Seoyon going, too?  \n",
       "3  Maybe she will go because she has nothing spec...  \n",
       "4                              Then, I will go, too.  \n",
       "5  By any chance, isn't it true that you are inte...  \n",
       "6               Don't tell Ms. Seoyon. It's a secret  "
      ]
     },
     "execution_count": 1,
     "metadata": {},
     "output_type": "execute_result"
    }
   ],
   "source": [
    "import pandas as pd\n",
    "\n",
    "convo_samp = pd.read_csv('../input/naver-dictionary-conversation-of-the-day/2008.csv').fillna('')\n",
    "convo_samp[['date', 'conversation_id', 'kor_sent', 'eng_sent']]"
   ]
  },
  {
   "cell_type": "code",
   "execution_count": 2,
   "metadata": {
    "execution": {
     "iopub.execute_input": "2020-08-18T06:28:35.428311Z",
     "iopub.status.busy": "2020-08-18T06:28:35.427377Z",
     "iopub.status.idle": "2020-08-18T06:28:35.432343Z",
     "shell.execute_reply": "2020-08-18T06:28:35.431571Z"
    },
    "papermill": {
     "duration": 0.02609,
     "end_time": "2020-08-18T06:28:35.432536",
     "exception": false,
     "start_time": "2020-08-18T06:28:35.406446",
     "status": "completed"
    },
    "tags": []
   },
   "outputs": [
    {
     "name": "stdout",
     "output_type": "stream",
     "text": [
      "Other columns:\n",
      " ['date', 'conversation_id', 'kor_sent', 'eng_sent', 'kor_title', 'eng_title', 'grammar', 'grammar_desc', 'grammar_kor_sent1', 'grammar_eng_sent1', 'grammar_kor_sent2', 'grammar_eng_sent2', 'grammar_kor_sent3', 'grammar_eng_sent3']\n"
     ]
    }
   ],
   "source": [
    "print('Other columns:\\n', list(convo_samp.columns))"
   ]
  },
  {
   "cell_type": "code",
   "execution_count": 3,
   "metadata": {
    "execution": {
     "iopub.execute_input": "2020-08-18T06:28:35.485880Z",
     "iopub.status.busy": "2020-08-18T06:28:35.485015Z",
     "iopub.status.idle": "2020-08-18T06:28:37.014090Z",
     "shell.execute_reply": "2020-08-18T06:28:37.013008Z"
    },
    "papermill": {
     "duration": 1.565884,
     "end_time": "2020-08-18T06:28:37.014277",
     "exception": false,
     "start_time": "2020-08-18T06:28:35.448393",
     "status": "completed"
    },
    "tags": []
   },
   "outputs": [],
   "source": [
    "import urllib.request\n",
    "import re\n",
    "\n",
    "# Let's try one webpage for now\n",
    "url = 'https://learn.dict.naver.com/conversation#/korean-en'\n",
    "\n",
    "page = urllib.request.urlopen(url)\n",
    "page = str(page.read().decode())\n",
    "\n",
    "# problem: not retrieving complete page html like Firefox html download does\n",
    "#          BeautifulSoup doesn't seem to retrieve complete html either\n",
    "# possible solution: should i try using headless firefox?\n",
    "# solved! - In-kernel Web scraping via a headless Firefox browser with Selenium at the bottom page"
   ]
  },
  {
   "cell_type": "markdown",
   "execution_count": null,
   "metadata": {
    "papermill": {
     "duration": 0.014498,
     "end_time": "2020-08-18T06:28:37.044535",
     "exception": false,
     "start_time": "2020-08-18T06:28:37.030037",
     "status": "completed"
    },
    "tags": []
   },
   "source": [
    "**Find patterns in the html code around the data we want to extract**"
   ]
  },
  {
   "cell_type": "markdown",
   "execution_count": null,
   "metadata": {
    "papermill": {
     "duration": 0.014517,
     "end_time": "2020-08-18T06:28:37.074119",
     "exception": false,
     "start_time": "2020-08-18T06:28:37.059602",
     "status": "completed"
    },
    "tags": []
   },
   "source": [
    "![View source code](https://raw.githubusercontent.com/rareloto/workspace/master/naverdictionary-conversationoftheday-scraper/photos/view-page-source-find-patterns-koreng.png)"
   ]
  },
  {
   "cell_type": "markdown",
   "execution_count": null,
   "metadata": {
    "papermill": {
     "duration": 0.014505,
     "end_time": "2020-08-18T06:28:37.103866",
     "exception": false,
     "start_time": "2020-08-18T06:28:37.089361",
     "status": "completed"
    },
    "tags": []
   },
   "source": [
    "**Extract data from html:** \n",
    "\n",
    "*Korean - English sentence pairs, grammar, related words, date*"
   ]
  },
  {
   "cell_type": "code",
   "execution_count": 4,
   "metadata": {
    "execution": {
     "iopub.execute_input": "2020-08-18T06:28:37.144253Z",
     "iopub.status.busy": "2020-08-18T06:28:37.143347Z",
     "iopub.status.idle": "2020-08-18T06:28:37.147070Z",
     "shell.execute_reply": "2020-08-18T06:28:37.146325Z"
    },
    "papermill": {
     "duration": 0.027756,
     "end_time": "2020-08-18T06:28:37.147199",
     "exception": false,
     "start_time": "2020-08-18T06:28:37.119443",
     "status": "completed"
    },
    "tags": []
   },
   "outputs": [],
   "source": [
    "# regex to find conversation date\n",
    "date = re.findall(r'var regionDate = \"([0-9]+)\"', page)\n",
    "# regex to find conversation title\n",
    "convo_title = re.findall(r'id=\"ogTitle\" content=\"(.+)\">', page)\n",
    "# regex to extract sentence pairs\n",
    "eng_sents = re.findall(r'<div class=\"txt_trans ng-binding\" ng-show=\"transDisplay\" ng-bind=\"item.trsl_sentence\">(.+)<.div>', page)\n",
    "# how to strip html from text - jxb-bind-compiled-html binding ?\n",
    "kor_sents = re.findall(r'<span class=\"u_word_dic\" data-hook=\"tip\" data-type=\"arken\" data-lang=\"ko\">(.+)</span>.</span></span>', page)\n",
    "\n",
    "# extracting other data (e.g. conversation title, grammar, grammar description, related words)"
   ]
  },
  {
   "cell_type": "markdown",
   "execution_count": null,
   "metadata": {
    "papermill": {
     "duration": 0.014848,
     "end_time": "2020-08-18T06:28:37.176998",
     "exception": false,
     "start_time": "2020-08-18T06:28:37.162150",
     "status": "completed"
    },
    "tags": []
   },
   "source": [
    "**Let's see if we're able to extract the data**"
   ]
  },
  {
   "cell_type": "code",
   "execution_count": 5,
   "metadata": {
    "execution": {
     "iopub.execute_input": "2020-08-18T06:28:37.214748Z",
     "iopub.status.busy": "2020-08-18T06:28:37.213787Z",
     "iopub.status.idle": "2020-08-18T06:28:37.218204Z",
     "shell.execute_reply": "2020-08-18T06:28:37.218819Z"
    },
    "papermill": {
     "duration": 0.027007,
     "end_time": "2020-08-18T06:28:37.218990",
     "exception": false,
     "start_time": "2020-08-18T06:28:37.191983",
     "status": "completed"
    },
    "tags": []
   },
   "outputs": [
    {
     "data": {
      "text/plain": [
       "['20200818']"
      ]
     },
     "execution_count": 5,
     "metadata": {},
     "output_type": "execute_result"
    }
   ],
   "source": [
    "date"
   ]
  },
  {
   "cell_type": "code",
   "execution_count": 6,
   "metadata": {
    "execution": {
     "iopub.execute_input": "2020-08-18T06:28:37.255782Z",
     "iopub.status.busy": "2020-08-18T06:28:37.254921Z",
     "iopub.status.idle": "2020-08-18T06:28:37.259963Z",
     "shell.execute_reply": "2020-08-18T06:28:37.259315Z"
    },
    "papermill": {
     "duration": 0.025656,
     "end_time": "2020-08-18T06:28:37.260092",
     "exception": false,
     "start_time": "2020-08-18T06:28:37.234436",
     "status": "completed"
    },
    "tags": []
   },
   "outputs": [
    {
     "data": {
      "text/plain": [
       "[]"
      ]
     },
     "execution_count": 6,
     "metadata": {},
     "output_type": "execute_result"
    }
   ],
   "source": [
    "kor_sents"
   ]
  },
  {
   "cell_type": "code",
   "execution_count": 7,
   "metadata": {
    "execution": {
     "iopub.execute_input": "2020-08-18T06:28:37.298047Z",
     "iopub.status.busy": "2020-08-18T06:28:37.296892Z",
     "iopub.status.idle": "2020-08-18T06:28:37.302035Z",
     "shell.execute_reply": "2020-08-18T06:28:37.301167Z"
    },
    "papermill": {
     "duration": 0.026562,
     "end_time": "2020-08-18T06:28:37.302182",
     "exception": false,
     "start_time": "2020-08-18T06:28:37.275620",
     "status": "completed"
    },
    "tags": []
   },
   "outputs": [
    {
     "data": {
      "text/plain": [
       "[]"
      ]
     },
     "execution_count": 7,
     "metadata": {},
     "output_type": "execute_result"
    }
   ],
   "source": [
    "eng_sents"
   ]
  },
  {
   "cell_type": "markdown",
   "execution_count": null,
   "metadata": {
    "papermill": {
     "duration": 0.015587,
     "end_time": "2020-08-18T06:28:37.334201",
     "exception": false,
     "start_time": "2020-08-18T06:28:37.318614",
     "status": "completed"
    },
    "tags": []
   },
   "source": [
    "The sentence pairs were not extracted because the page source we retrieved is incomplete.\n",
    "\n",
    "Maybe I'll try a headless Firefox browser here to download the complete webpage from the browser."
   ]
  },
  {
   "cell_type": "markdown",
   "execution_count": null,
   "metadata": {
    "papermill": {
     "duration": 0.015215,
     "end_time": "2020-08-18T06:28:37.365772",
     "exception": false,
     "start_time": "2020-08-18T06:28:37.350557",
     "status": "completed"
    },
    "tags": []
   },
   "source": [
    "# Web Scraping via headless Firefox with Selenium"
   ]
  },
  {
   "cell_type": "markdown",
   "execution_count": null,
   "metadata": {
    "papermill": {
     "duration": 0.015644,
     "end_time": "2020-08-18T06:28:37.397436",
     "exception": false,
     "start_time": "2020-08-18T06:28:37.381792",
     "status": "completed"
    },
    "tags": []
   },
   "source": [
    "Installing Firefox browser"
   ]
  },
  {
   "cell_type": "code",
   "execution_count": 8,
   "metadata": {
    "execution": {
     "iopub.execute_input": "2020-08-18T06:28:37.435982Z",
     "iopub.status.busy": "2020-08-18T06:28:37.435102Z",
     "iopub.status.idle": "2020-08-18T06:28:38.224889Z",
     "shell.execute_reply": "2020-08-18T06:28:38.223966Z"
    },
    "papermill": {
     "duration": 0.811981,
     "end_time": "2020-08-18T06:28:38.225035",
     "exception": false,
     "start_time": "2020-08-18T06:28:37.413054",
     "status": "completed"
    },
    "tags": []
   },
   "outputs": [
    {
     "name": "stdout",
     "output_type": "stream",
     "text": [
      "NAME=\"Ubuntu\"\r\n",
      "VERSION=\"18.04.4 LTS (Bionic Beaver)\"\r\n",
      "ID=ubuntu\r\n",
      "ID_LIKE=debian\r\n",
      "PRETTY_NAME=\"Ubuntu 18.04.4 LTS\"\r\n",
      "VERSION_ID=\"18.04\"\r\n",
      "HOME_URL=\"https://www.ubuntu.com/\"\r\n",
      "SUPPORT_URL=\"https://help.ubuntu.com/\"\r\n",
      "BUG_REPORT_URL=\"https://bugs.launchpad.net/ubuntu/\"\r\n",
      "PRIVACY_POLICY_URL=\"https://www.ubuntu.com/legal/terms-and-policies/privacy-policy\"\r\n",
      "VERSION_CODENAME=bionic\r\n",
      "UBUNTU_CODENAME=bionic\r\n"
     ]
    }
   ],
   "source": [
    "# Checking kernel OS info\n",
    "!cat /etc/os-release"
   ]
  },
  {
   "cell_type": "markdown",
   "execution_count": null,
   "metadata": {
    "papermill": {
     "duration": 0.016641,
     "end_time": "2020-08-18T06:28:38.258390",
     "exception": false,
     "start_time": "2020-08-18T06:28:38.241749",
     "status": "completed"
    },
    "tags": []
   },
   "source": [
    "Cool! Just like what I'm using right now."
   ]
  },
  {
   "cell_type": "code",
   "execution_count": 9,
   "metadata": {
    "execution": {
     "iopub.execute_input": "2020-08-18T06:28:38.302156Z",
     "iopub.status.busy": "2020-08-18T06:28:38.301013Z",
     "iopub.status.idle": "2020-08-18T06:29:02.707775Z",
     "shell.execute_reply": "2020-08-18T06:29:02.706830Z"
    },
    "papermill": {
     "duration": 24.433475,
     "end_time": "2020-08-18T06:29:02.707937",
     "exception": false,
     "start_time": "2020-08-18T06:28:38.274462",
     "status": "completed"
    },
    "tags": []
   },
   "outputs": [
    {
     "name": "stdout",
     "output_type": "stream",
     "text": [
      "--2020-08-18 06:28:39--  https://download-installer.cdn.mozilla.net/pub/firefox/releases/79.0/linux-x86_64/en-US/firefox-79.0.tar.bz2\r\n",
      "Resolving download-installer.cdn.mozilla.net (download-installer.cdn.mozilla.net)... 143.204.134.60, 2600:9000:21c4:f800:e:19d6:1546:5981, 2600:9000:21c4:7e00:e:19d6:1546:5981, ...\r\n",
      "Connecting to download-installer.cdn.mozilla.net (download-installer.cdn.mozilla.net)|143.204.134.60|:443... connected.\r\n",
      "HTTP request sent, awaiting response... 200 OK\r\n",
      "Length: 71210168 (68M) [application/x-tar]\r\n",
      "Saving to: ‘firefox-79.0.tar.bz2’\r\n",
      "\r\n",
      "firefox-79.0.tar.bz 100%[===================>]  67.91M  12.3MB/s    in 6.1s    \r\n",
      "\r\n",
      "2020-08-18 06:28:45 (11.1 MB/s) - ‘firefox-79.0.tar.bz2’ saved [71210168/71210168]\r\n",
      "\r\n"
     ]
    }
   ],
   "source": [
    "# Downloading Firefox for Linux\n",
    "!wget 'https://download-installer.cdn.mozilla.net/pub/firefox/releases/79.0/linux-x86_64/en-US/firefox-79.0.tar.bz2'\n",
    "\n",
    "# Extracting Firefox binary\n",
    "!tar -xjf 'firefox-79.0.tar.bz2'"
   ]
  },
  {
   "cell_type": "code",
   "execution_count": 10,
   "metadata": {
    "execution": {
     "iopub.execute_input": "2020-08-18T06:29:02.757131Z",
     "iopub.status.busy": "2020-08-18T06:29:02.752650Z",
     "iopub.status.idle": "2020-08-18T06:29:03.513142Z",
     "shell.execute_reply": "2020-08-18T06:29:03.512402Z"
    },
    "papermill": {
     "duration": 0.78599,
     "end_time": "2020-08-18T06:29:03.513310",
     "exception": false,
     "start_time": "2020-08-18T06:29:02.727320",
     "status": "completed"
    },
    "tags": []
   },
   "outputs": [
    {
     "name": "stdout",
     "output_type": "stream",
     "text": [
      "__notebook__.ipynb  firefox  firefox-79.0.tar.bz2\r\n"
     ]
    }
   ],
   "source": [
    "# Checking working directory\n",
    "!ls /kaggle/working"
   ]
  },
  {
   "cell_type": "code",
   "execution_count": 11,
   "metadata": {
    "execution": {
     "iopub.execute_input": "2020-08-18T06:29:03.561968Z",
     "iopub.status.busy": "2020-08-18T06:29:03.557067Z",
     "iopub.status.idle": "2020-08-18T06:29:04.323817Z",
     "shell.execute_reply": "2020-08-18T06:29:04.323063Z"
    },
    "papermill": {
     "duration": 0.791933,
     "end_time": "2020-08-18T06:29:04.323964",
     "exception": false,
     "start_time": "2020-08-18T06:29:03.532031",
     "status": "completed"
    },
    "tags": []
   },
   "outputs": [],
   "source": [
    "# Adding read/write/execute capabilities to 'firefox' directory\n",
    "!chmod -R 777 '../working/firefox'"
   ]
  },
  {
   "cell_type": "code",
   "execution_count": 12,
   "metadata": {
    "execution": {
     "iopub.execute_input": "2020-08-18T06:29:04.374428Z",
     "iopub.status.busy": "2020-08-18T06:29:04.372972Z",
     "iopub.status.idle": "2020-08-18T06:29:12.634895Z",
     "shell.execute_reply": "2020-08-18T06:29:12.634045Z"
    },
    "papermill": {
     "duration": 8.292285,
     "end_time": "2020-08-18T06:29:12.635044",
     "exception": false,
     "start_time": "2020-08-18T06:29:04.342759",
     "status": "completed"
    },
    "tags": []
   },
   "outputs": [
    {
     "name": "stdout",
     "output_type": "stream",
     "text": [
      "\r\n",
      "\r\n",
      "\r\n",
      "libgtk-3-0 is already the newest version (3.22.30-1ubuntu4).\r\n",
      "libgtk-3-0 set to manually installed.\r\n",
      "xvfb is already the newest version (2:1.19.6-1ubuntu4.4).\r\n",
      "The following NEW packages will be installed:\r\n",
      "  libdbus-glib-1-2\r\n",
      "0 upgraded, 1 newly installed, 0 to remove and 66 not upgraded.\r\n",
      "Need to get 58.3 kB of archives.\r\n",
      "After this operation, 203 kB of additional disk space will be used.\r\n",
      "Get:1 http://archive.ubuntu.com/ubuntu bionic/main amd64 libdbus-glib-1-2 amd64 0.110-2 [58.3 kB]\r\n",
      "Fetched 58.3 kB in 2s (24.4 kB/s)\r\n",
      "debconf: delaying package configuration, since apt-utils is not installed\r\n",
      "Selecting previously unselected package libdbus-glib-1-2:amd64.\r\n",
      "(Reading database ... 107896 files and directories currently installed.)\r\n",
      "Preparing to unpack .../libdbus-glib-1-2_0.110-2_amd64.deb ...\r\n",
      "Unpacking libdbus-glib-1-2:amd64 (0.110-2) ...\r\n",
      "Setting up libdbus-glib-1-2:amd64 (0.110-2) ...\r\n",
      "Processing triggers for libc-bin (2.27-3ubuntu1) ...\r\n"
     ]
    }
   ],
   "source": [
    "# Installing Firefox dependencies\n",
    "!apt-get install -y libgtk-3-0 libdbus-glib-1-2 xvfb"
   ]
  },
  {
   "cell_type": "markdown",
   "execution_count": null,
   "metadata": {
    "papermill": {
     "duration": 0.019978,
     "end_time": "2020-08-18T06:29:12.675616",
     "exception": false,
     "start_time": "2020-08-18T06:29:12.655638",
     "status": "completed"
    },
    "tags": []
   },
   "source": [
    "Installing GeckoDriver "
   ]
  },
  {
   "cell_type": "code",
   "execution_count": 13,
   "metadata": {
    "execution": {
     "iopub.execute_input": "2020-08-18T06:29:12.724346Z",
     "iopub.status.busy": "2020-08-18T06:29:12.723555Z",
     "iopub.status.idle": "2020-08-18T06:29:25.571170Z",
     "shell.execute_reply": "2020-08-18T06:29:25.570534Z"
    },
    "papermill": {
     "duration": 12.874926,
     "end_time": "2020-08-18T06:29:25.571338",
     "exception": false,
     "start_time": "2020-08-18T06:29:12.696412",
     "status": "completed"
    },
    "tags": []
   },
   "outputs": [
    {
     "name": "stdout",
     "output_type": "stream",
     "text": [
      "Collecting webdriverdownloader\r\n",
      "  Downloading webdriverdownloader-1.1.0.3-py2.py3-none-any.whl (10 kB)\r\n",
      "Requirement already satisfied: requests in /opt/conda/lib/python3.7/site-packages (from webdriverdownloader) (2.23.0)\r\n",
      "Requirement already satisfied: beautifulsoup4 in /opt/conda/lib/python3.7/site-packages (from webdriverdownloader) (4.9.0)\r\n",
      "Requirement already satisfied: tqdm in /opt/conda/lib/python3.7/site-packages (from webdriverdownloader) (4.45.0)\r\n",
      "Requirement already satisfied: certifi>=2017.4.17 in /opt/conda/lib/python3.7/site-packages (from requests->webdriverdownloader) (2020.6.20)\r\n",
      "Requirement already satisfied: chardet<4,>=3.0.2 in /opt/conda/lib/python3.7/site-packages (from requests->webdriverdownloader) (3.0.4)\r\n",
      "Requirement already satisfied: urllib3!=1.25.0,!=1.25.1,<1.26,>=1.21.1 in /opt/conda/lib/python3.7/site-packages (from requests->webdriverdownloader) (1.24.3)\r\n",
      "Requirement already satisfied: idna<3,>=2.5 in /opt/conda/lib/python3.7/site-packages (from requests->webdriverdownloader) (2.9)\r\n",
      "Requirement already satisfied: soupsieve>1.2 in /opt/conda/lib/python3.7/site-packages (from beautifulsoup4->webdriverdownloader) (1.9.4)\r\n",
      "Installing collected packages: webdriverdownloader\r\n",
      "Successfully installed webdriverdownloader-1.1.0.3\r\n",
      "\u001b[33mWARNING: You are using pip version 20.2.1; however, version 20.2.2 is available.\r\n",
      "You should consider upgrading via the '/opt/conda/bin/python3.7 -m pip install --upgrade pip' command.\u001b[0m\r\n"
     ]
    }
   ],
   "source": [
    "# Installing Python module for automatic handling of GeckoDriver download and installation\n",
    "!pip install webdriverdownloader"
   ]
  },
  {
   "cell_type": "code",
   "execution_count": 14,
   "metadata": {
    "execution": {
     "iopub.execute_input": "2020-08-18T06:29:25.621819Z",
     "iopub.status.busy": "2020-08-18T06:29:25.621012Z",
     "iopub.status.idle": "2020-08-18T06:29:30.248931Z",
     "shell.execute_reply": "2020-08-18T06:29:30.249570Z"
    },
    "papermill": {
     "duration": 4.656869,
     "end_time": "2020-08-18T06:29:30.249751",
     "exception": false,
     "start_time": "2020-08-18T06:29:25.592882",
     "status": "completed"
    },
    "tags": []
   },
   "outputs": [
    {
     "name": "stderr",
     "output_type": "stream",
     "text": [
      "3786kb [00:01, 2577.29kb/s]                        \n"
     ]
    },
    {
     "data": {
      "text/plain": [
       "('/usr/local/webdriver/gecko/v0.23.0/geckodriver-v0.23.0-linux64/geckodriver',\n",
       " '/usr/local/bin/geckodriver')"
      ]
     },
     "execution_count": 14,
     "metadata": {},
     "output_type": "execute_result"
    }
   ],
   "source": [
    "# Installing GeckoDriver\n",
    "from webdriverdownloader import GeckoDriverDownloader\n",
    "\n",
    "gdd = GeckoDriverDownloader()\n",
    "gdd.download_and_install('v0.23.0')"
   ]
  },
  {
   "cell_type": "code",
   "execution_count": 15,
   "metadata": {
    "execution": {
     "iopub.execute_input": "2020-08-18T06:29:30.306259Z",
     "iopub.status.busy": "2020-08-18T06:29:30.300957Z",
     "iopub.status.idle": "2020-08-18T06:29:41.965983Z",
     "shell.execute_reply": "2020-08-18T06:29:41.965134Z"
    },
    "papermill": {
     "duration": 11.69367,
     "end_time": "2020-08-18T06:29:41.966132",
     "exception": false,
     "start_time": "2020-08-18T06:29:30.272462",
     "status": "completed"
    },
    "tags": []
   },
   "outputs": [
    {
     "name": "stdout",
     "output_type": "stream",
     "text": [
      "Collecting selenium\r\n",
      "  Downloading selenium-3.141.0-py2.py3-none-any.whl (904 kB)\r\n",
      "\u001b[K     |████████████████████████████████| 904 kB 192 kB/s \r\n",
      "\u001b[?25hRequirement already satisfied: urllib3 in /opt/conda/lib/python3.7/site-packages (from selenium) (1.24.3)\r\n",
      "Installing collected packages: selenium\r\n",
      "Successfully installed selenium-3.141.0\r\n",
      "\u001b[33mWARNING: You are using pip version 20.2.1; however, version 20.2.2 is available.\r\n",
      "You should consider upgrading via the '/opt/conda/bin/python3.7 -m pip install --upgrade pip' command.\u001b[0m\r\n"
     ]
    }
   ],
   "source": [
    "# Installing Selenium\n",
    "!pip install selenium"
   ]
  },
  {
   "cell_type": "code",
   "execution_count": 16,
   "metadata": {
    "execution": {
     "iopub.execute_input": "2020-08-18T06:29:42.026994Z",
     "iopub.status.busy": "2020-08-18T06:29:42.026156Z",
     "iopub.status.idle": "2020-08-18T06:29:43.116379Z",
     "shell.execute_reply": "2020-08-18T06:29:43.115634Z"
    },
    "papermill": {
     "duration": 1.125208,
     "end_time": "2020-08-18T06:29:43.116537",
     "exception": false,
     "start_time": "2020-08-18T06:29:41.991329",
     "status": "completed"
    },
    "tags": []
   },
   "outputs": [],
   "source": [
    "# Loading Python modules to use\n",
    "import pandas as pd\n",
    "import seaborn as sns\n",
    "from IPython.display import Image\n",
    "import time\n",
    "\n",
    "from selenium import webdriver as selenium_webdriver\n",
    "from selenium.webdriver.firefox.options import Options as selenium_options\n",
    "from selenium.webdriver.common.desired_capabilities import DesiredCapabilities as selenium_DesiredCapabilities\n",
    "\n",
    "from selenium.webdriver.common.by  import By as selenium_By\n",
    "from selenium.webdriver.support.ui import Select as selenium_Select\n",
    "from selenium.webdriver.support.ui import WebDriverWait as selenium_WebDriverWait\n",
    "from selenium.webdriver.support    import expected_conditions as selenium_ec"
   ]
  },
  {
   "cell_type": "code",
   "execution_count": 17,
   "metadata": {
    "execution": {
     "iopub.execute_input": "2020-08-18T06:29:43.175487Z",
     "iopub.status.busy": "2020-08-18T06:29:43.170382Z",
     "iopub.status.idle": "2020-08-18T06:29:43.917801Z",
     "shell.execute_reply": "2020-08-18T06:29:43.918450Z"
    },
    "papermill": {
     "duration": 0.777677,
     "end_time": "2020-08-18T06:29:43.918641",
     "exception": false,
     "start_time": "2020-08-18T06:29:43.140964",
     "status": "completed"
    },
    "tags": []
   },
   "outputs": [],
   "source": [
    "# Setting up a virtual screen for Firefox\n",
    "!export DISPLAY=:99"
   ]
  },
  {
   "cell_type": "code",
   "execution_count": 18,
   "metadata": {
    "execution": {
     "iopub.execute_input": "2020-08-18T06:29:43.976609Z",
     "iopub.status.busy": "2020-08-18T06:29:43.975738Z",
     "iopub.status.idle": "2020-08-18T06:29:47.249309Z",
     "shell.execute_reply": "2020-08-18T06:29:47.248194Z"
    },
    "papermill": {
     "duration": 3.306528,
     "end_time": "2020-08-18T06:29:47.249460",
     "exception": false,
     "start_time": "2020-08-18T06:29:43.942932",
     "status": "completed"
    },
    "tags": []
   },
   "outputs": [],
   "source": [
    "# Firing up a headless browser session with a screen size of 1920x1080\n",
    "browser_options = selenium_options()\n",
    "browser_options.add_argument(\"--headless\")\n",
    "browser_options.add_argument(\"--window-size=1920,1080\")\n",
    "\n",
    "capabilities_argument = selenium_DesiredCapabilities().FIREFOX\n",
    "capabilities_argument[\"marionette\"] = True\n",
    "\n",
    "browser = selenium_webdriver.Firefox(\n",
    "    options=browser_options,\n",
    "    firefox_binary=\"../working/firefox/firefox\",\n",
    "    capabilities=capabilities_argument\n",
    ")"
   ]
  },
  {
   "cell_type": "code",
   "execution_count": 19,
   "metadata": {
    "execution": {
     "iopub.execute_input": "2020-08-18T06:29:47.310094Z",
     "iopub.status.busy": "2020-08-18T06:29:47.309136Z",
     "iopub.status.idle": "2020-08-18T06:29:53.504106Z",
     "shell.execute_reply": "2020-08-18T06:29:53.503393Z"
    },
    "papermill": {
     "duration": 6.229073,
     "end_time": "2020-08-18T06:29:53.504278",
     "exception": false,
     "start_time": "2020-08-18T06:29:47.275205",
     "status": "completed"
    },
    "tags": []
   },
   "outputs": [
    {
     "name": "stdout",
     "output_type": "stream",
     "text": [
      "https://learn.dict.naver.com/conversation#/korean-en\n"
     ]
    },
    {
     "data": {
      "image/png": "[encoded data removed]",
      "text/plain": [
       "<IPython.core.display.Image object>"
      ]
     },
     "execution_count": 19,
     "metadata": {
      "image/png": {
       "height": 500,
       "width": 800
      }
     },
     "output_type": "execute_result"
    }
   ],
   "source": [
    "# Navigating to website\n",
    "browser.get(\"https://learn.dict.naver.com/conversation#/korean-en\")\n",
    "print(browser.current_url)\n",
    "\n",
    "# Giving the page up to 10 seconds to load\n",
    "wait = selenium_WebDriverWait(browser, 10)\n",
    "wait.until(selenium_ec.visibility_of_element_located((selenium_By.XPATH, '//div[@class=\"reading_lst_wrap\"]')))\n",
    "\n",
    "# Taking a screenshot of the webpage\n",
    "browser.save_screenshot(\"screenshot.png\")\n",
    "Image(\"screenshot.png\", width=800, height=500)"
   ]
  },
  {
   "cell_type": "markdown",
   "execution_count": null,
   "metadata": {
    "papermill": {
     "duration": 0.025737,
     "end_time": "2020-08-18T06:29:53.557009",
     "exception": false,
     "start_time": "2020-08-18T06:29:53.531272",
     "status": "completed"
    },
    "tags": []
   },
   "source": [
    "Awesome! Looks like we're on the same page."
   ]
  },
  {
   "cell_type": "markdown",
   "execution_count": null,
   "metadata": {
    "papermill": {
     "duration": 0.042916,
     "end_time": "2020-08-18T06:29:53.627743",
     "exception": false,
     "start_time": "2020-08-18T06:29:53.584827",
     "status": "completed"
    },
    "tags": []
   },
   "source": [
    "**Viewing page source**"
   ]
  },
  {
   "cell_type": "code",
   "execution_count": 20,
   "metadata": {
    "execution": {
     "iopub.execute_input": "2020-08-18T06:29:53.753350Z",
     "iopub.status.busy": "2020-08-18T06:29:53.751834Z",
     "iopub.status.idle": "2020-08-18T06:30:03.832431Z",
     "shell.execute_reply": "2020-08-18T06:30:03.831577Z"
    },
    "papermill": {
     "duration": 10.149295,
     "end_time": "2020-08-18T06:30:03.832581",
     "exception": false,
     "start_time": "2020-08-18T06:29:53.683286",
     "status": "completed"
    },
    "tags": []
   },
   "outputs": [
    {
     "data": {
      "text/plain": [
       "'<html xml:lang=\"ko\" ng-app=\"mainApp\" ng-controller=\"htmlController\" class=\"ng-scope\"><head><style type=\"text/css\">@charset \"UTF-8\";[ng\\\\:cloak],[ng-cloak],[data-ng-cloak],[x-ng-cloak],.ng-cloak,.x-ng-cloak,.ng-hide:not(.ng-hide-animate){display:none !important;}ng\\\\:form{display:block;}.ng-animate-shim{visibility:hidden;}.ng-anchor{position:absolute;}</style>\\n\\t\\t<meta charset=\"utf-8\">\\n\\t\\t<meta http-equiv=\"X-XSS-Protection\" content=\"1\">\\n\\t\\t<meta name=\"viewport\" id=\"viewport\" content=\"initial-scale=1.0,minimum-scale=1.0,maximum-scale=1.0,user-scalable=no\">\\n\\t\\t<!-- for Facebook -->\\n\\t\\t<meta property=\"og:title\" id=\"ogTitle\" content=\"오늘의 회화 - 오랜만에 만나도 어색하지 않은 것 같아요.\">\\n\\t\\t<meta property=\"og:type\" content=\"article\">\\n\\t\\t<meta property=\"og:description\" id=\"ogDesc\" content=\"오늘은 어떤 내용일까요? 지금 확인해보세요!\">\\n\\t\\t<meta property=\"og:image\" content=\"https://ssl.pstatic.net/dicimg/wordbook-mobile-endic/img/enwordbook_icon_20171204.png\">\\n\\t\\t<meta property=\"og:url\" id=\"ogUrl\" content=\"http://m.wordbook.naver.com/endic/to'"
      ]
     },
     "execution_count": 20,
     "metadata": {},
     "output_type": "execute_result"
    }
   ],
   "source": [
    "# Waiting for another 10 seconds to make sure the page is complete\n",
    "time.sleep(10)\n",
    "\n",
    "# Retrieving page source\n",
    "page = browser.page_source\n",
    "page[0:1000]"
   ]
  },
  {
   "cell_type": "markdown",
   "execution_count": null,
   "metadata": {
    "papermill": {
     "duration": 0.025354,
     "end_time": "2020-08-18T06:30:03.884711",
     "exception": false,
     "start_time": "2020-08-18T06:30:03.859357",
     "status": "completed"
    },
    "tags": []
   },
   "source": [
    "A bit messy.. Let's use regular expressions to find what we need."
   ]
  },
  {
   "cell_type": "code",
   "execution_count": 21,
   "metadata": {
    "execution": {
     "iopub.execute_input": "2020-08-18T06:30:03.950337Z",
     "iopub.status.busy": "2020-08-18T06:30:03.949134Z",
     "iopub.status.idle": "2020-08-18T06:30:03.952973Z",
     "shell.execute_reply": "2020-08-18T06:30:03.952206Z"
    },
    "papermill": {
     "duration": 0.042731,
     "end_time": "2020-08-18T06:30:03.953115",
     "exception": false,
     "start_time": "2020-08-18T06:30:03.910384",
     "status": "completed"
    },
    "tags": []
   },
   "outputs": [],
   "source": [
    "# regex to extract conversation date\n",
    "date = re.findall(r'var regionDate = \"([0-9]+)\"', page)\n",
    "# regex to extract conversation title in korean\n",
    "kor_title = re.findall(r'id=\"ogTitle\" content=\"오늘의 회화 - (.+)\">', page)\n",
    "# regex to extract conversation title in english\n",
    "eng_title = re.findall(r'<span class=\"txt_trans ng-binding\" ng-bind=\"title_translation\">(.+)</span>', page)\n",
    "# regex to extract sentence pairs\n",
    "eng_sents = re.findall(r'<div.+item.trsl_sentence\">(.+)</div>', page)\n",
    "kor_sents = re.findall(r'<span class=\"u_word_dic\" data-hook=\"tip\" data-type=\"arken\" data-lang=\"ko\">(.+)</span></span>', page)"
   ]
  },
  {
   "cell_type": "markdown",
   "execution_count": null,
   "metadata": {
    "papermill": {
     "duration": 0.026722,
     "end_time": "2020-08-18T06:30:04.005781",
     "exception": false,
     "start_time": "2020-08-18T06:30:03.979059",
     "status": "completed"
    },
    "tags": []
   },
   "source": [
    "Did we get it?"
   ]
  },
  {
   "cell_type": "code",
   "execution_count": 22,
   "metadata": {
    "execution": {
     "iopub.execute_input": "2020-08-18T06:30:04.066607Z",
     "iopub.status.busy": "2020-08-18T06:30:04.065213Z",
     "iopub.status.idle": "2020-08-18T06:30:04.070714Z",
     "shell.execute_reply": "2020-08-18T06:30:04.069838Z"
    },
    "papermill": {
     "duration": 0.03846,
     "end_time": "2020-08-18T06:30:04.070867",
     "exception": false,
     "start_time": "2020-08-18T06:30:04.032407",
     "status": "completed"
    },
    "tags": []
   },
   "outputs": [
    {
     "data": {
      "text/plain": [
       "['20200818']"
      ]
     },
     "execution_count": 22,
     "metadata": {},
     "output_type": "execute_result"
    }
   ],
   "source": [
    "date"
   ]
  },
  {
   "cell_type": "code",
   "execution_count": 23,
   "metadata": {
    "execution": {
     "iopub.execute_input": "2020-08-18T06:30:04.131255Z",
     "iopub.status.busy": "2020-08-18T06:30:04.130357Z",
     "iopub.status.idle": "2020-08-18T06:30:04.135491Z",
     "shell.execute_reply": "2020-08-18T06:30:04.134624Z"
    },
    "papermill": {
     "duration": 0.037356,
     "end_time": "2020-08-18T06:30:04.135642",
     "exception": false,
     "start_time": "2020-08-18T06:30:04.098286",
     "status": "completed"
    },
    "tags": []
   },
   "outputs": [
    {
     "data": {
      "text/plain": [
       "['오랜만에 만나도 어색하지 않은 것 같아요.']"
      ]
     },
     "execution_count": 23,
     "metadata": {},
     "output_type": "execute_result"
    }
   ],
   "source": [
    "kor_title"
   ]
  },
  {
   "cell_type": "code",
   "execution_count": 24,
   "metadata": {
    "execution": {
     "iopub.execute_input": "2020-08-18T06:30:04.195185Z",
     "iopub.status.busy": "2020-08-18T06:30:04.194042Z",
     "iopub.status.idle": "2020-08-18T06:30:04.199669Z",
     "shell.execute_reply": "2020-08-18T06:30:04.198856Z"
    },
    "papermill": {
     "duration": 0.037268,
     "end_time": "2020-08-18T06:30:04.199806",
     "exception": false,
     "start_time": "2020-08-18T06:30:04.162538",
     "status": "completed"
    },
    "tags": []
   },
   "outputs": [
    {
     "data": {
      "text/plain": [
       "[\"I don't feel awkward though it’s been a while since I met them last time.\"]"
      ]
     },
     "execution_count": 24,
     "metadata": {},
     "output_type": "execute_result"
    }
   ],
   "source": [
    "eng_title"
   ]
  },
  {
   "cell_type": "code",
   "execution_count": 25,
   "metadata": {
    "execution": {
     "iopub.execute_input": "2020-08-18T06:30:04.260283Z",
     "iopub.status.busy": "2020-08-18T06:30:04.259428Z",
     "iopub.status.idle": "2020-08-18T06:30:04.264446Z",
     "shell.execute_reply": "2020-08-18T06:30:04.263611Z"
    },
    "papermill": {
     "duration": 0.037584,
     "end_time": "2020-08-18T06:30:04.264587",
     "exception": false,
     "start_time": "2020-08-18T06:30:04.227003",
     "status": "completed"
    },
    "tags": []
   },
   "outputs": [
    {
     "data": {
      "text/plain": [
       "['How did you spend your weekend?',\n",
       " 'I went to my elementary school alumni meeting, where I met some friends.',\n",
       " \"Didn’t you feel awkward because it's been a while since you met them?\",\n",
       " \"I don't feel awkward though it’s been a while since I met my friends from my childhood when I was young.\",\n",
       " 'I remember my friends from my childhood when I was young.',\n",
       " \"Ms. Seoyon, why don't you first contact your friends?\"]"
      ]
     },
     "execution_count": 25,
     "metadata": {},
     "output_type": "execute_result"
    }
   ],
   "source": [
    "eng_sents"
   ]
  },
  {
   "cell_type": "code",
   "execution_count": 26,
   "metadata": {
    "execution": {
     "iopub.execute_input": "2020-08-18T06:30:04.383474Z",
     "iopub.status.busy": "2020-08-18T06:30:04.382532Z",
     "iopub.status.idle": "2020-08-18T06:30:04.388282Z",
     "shell.execute_reply": "2020-08-18T06:30:04.387286Z"
    },
    "papermill": {
     "duration": 0.038499,
     "end_time": "2020-08-18T06:30:04.388432",
     "exception": false,
     "start_time": "2020-08-18T06:30:04.349933",
     "status": "completed"
    },
    "tags": []
   },
   "outputs": [
    {
     "data": {
      "text/plain": [
       "['지난</span> <span class=\"u_word_dic\" data-hook=\"tip\" data-type=\"arken\" data-lang=\"ko\">주말을</span> <span class=\"u_word_dic\" data-hook=\"tip\" data-type=\"arken\" data-lang=\"ko\">어떻게</span> <span class=\"u_word_dic\" data-hook=\"tip\" data-type=\"arken\" data-lang=\"ko\">보냈어요</span>?',\n",
       " '초등학교</span> <span class=\"u_word_dic\" data-hook=\"tip\" data-type=\"arken\" data-lang=\"ko\">동창회에</span> <span class=\"u_word_dic\" data-hook=\"tip\" data-type=\"arken\" data-lang=\"ko\">가서</span> <span class=\"u_word_dic\" data-hook=\"tip\" data-type=\"arken\" data-lang=\"ko\">친구들을</span> <span class=\"u_word_dic\" data-hook=\"tip\" data-type=\"arken\" data-lang=\"ko\">만났어요</span>.',\n",
       " '오랜만에</span> <span class=\"u_word_dic\" data-hook=\"tip\" data-type=\"arken\" data-lang=\"ko\">만났는데</span> <span class=\"u_word_dic\" data-hook=\"tip\" data-type=\"arken\" data-lang=\"ko\">어색하지</span> <span class=\"u_word_dic\" data-hook=\"tip\" data-type=\"arken\" data-lang=\"ko\">않았어요</span>?',\n",
       " '어렸을</span> <span class=\"u_word_dic\" data-hook=\"tip\" data-type=\"arken\" data-lang=\"ko\">때</span> <span class=\"u_word_dic\" data-hook=\"tip\" data-type=\"arken\" data-lang=\"ko\">친구는</span> <span class=\"u_word_dic\" data-hook=\"tip\" data-type=\"arken\" data-lang=\"ko\">오랜만에</span> <span class=\"u_word_dic\" data-hook=\"tip\" data-type=\"arken\" data-lang=\"ko\">만나도</span> <span class=\"u_word_dic\" data-hook=\"tip\" data-type=\"arken\" data-lang=\"ko\">어색하지</span> <span class=\"u_word_dic\" data-hook=\"tip\" data-type=\"arken\" data-lang=\"ko\">않은</span> <span class=\"u_word_dic\" data-hook=\"tip\" data-type=\"arken\" data-lang=\"ko\">것</span> <span class=\"u_word_dic\" data-hook=\"tip\" data-type=\"arken\" data-lang=\"ko\">같아요</span>.',\n",
       " '저도</span> <span class=\"u_word_dic\" data-hook=\"tip\" data-type=\"arken\" data-lang=\"ko\">어렸을</span> <span class=\"u_word_dic\" data-hook=\"tip\" data-type=\"arken\" data-lang=\"ko\">때</span> <span class=\"u_word_dic\" data-hook=\"tip\" data-type=\"arken\" data-lang=\"ko\">친구들이</span> <span class=\"u_word_dic\" data-hook=\"tip\" data-type=\"arken\" data-lang=\"ko\">생각나네요</span>.']"
      ]
     },
     "execution_count": 26,
     "metadata": {},
     "output_type": "execute_result"
    }
   ],
   "source": [
    "kor_sents[0:5]"
   ]
  },
  {
   "cell_type": "code",
   "execution_count": 27,
   "metadata": {
    "execution": {
     "iopub.execute_input": "2020-08-18T06:30:04.450010Z",
     "iopub.status.busy": "2020-08-18T06:30:04.448883Z",
     "iopub.status.idle": "2020-08-18T06:30:04.452555Z",
     "shell.execute_reply": "2020-08-18T06:30:04.451746Z"
    },
    "papermill": {
     "duration": 0.036694,
     "end_time": "2020-08-18T06:30:04.452696",
     "exception": false,
     "start_time": "2020-08-18T06:30:04.416002",
     "status": "completed"
    },
    "tags": []
   },
   "outputs": [],
   "source": [
    "# Stripping HTML tags from text\n",
    "def strip_tags(sent):\n",
    "    sent = re.sub(r'<.+?>', '', sent)\n",
    "    return sent"
   ]
  },
  {
   "cell_type": "code",
   "execution_count": 28,
   "metadata": {
    "execution": {
     "iopub.execute_input": "2020-08-18T06:30:04.515283Z",
     "iopub.status.busy": "2020-08-18T06:30:04.514282Z",
     "iopub.status.idle": "2020-08-18T06:30:04.518718Z",
     "shell.execute_reply": "2020-08-18T06:30:04.519298Z"
    },
    "papermill": {
     "duration": 0.039519,
     "end_time": "2020-08-18T06:30:04.519478",
     "exception": false,
     "start_time": "2020-08-18T06:30:04.479959",
     "status": "completed"
    },
    "tags": []
   },
   "outputs": [
    {
     "data": {
      "text/plain": [
       "['지난 주말을 어떻게 보냈어요?',\n",
       " '초등학교 동창회에 가서 친구들을 만났어요.',\n",
       " '오랜만에 만났는데 어색하지 않았어요?',\n",
       " '어렸을 때 친구는 오랜만에 만나도 어색하지 않은 것 같아요.',\n",
       " '저도 어렸을 때 친구들이 생각나네요.',\n",
       " '서연 씨가 먼저 친구들에게 연락해 보세요.']"
      ]
     },
     "execution_count": 28,
     "metadata": {},
     "output_type": "execute_result"
    }
   ],
   "source": [
    "kor_sents = list(map(strip_tags, kor_sents))\n",
    "kor_sents = kor_sents[0:len(eng_sents)]\n",
    "kor_sents"
   ]
  },
  {
   "cell_type": "markdown",
   "execution_count": null,
   "metadata": {
    "papermill": {
     "duration": 0.02776,
     "end_time": "2020-08-18T06:30:04.574247",
     "exception": false,
     "start_time": "2020-08-18T06:30:04.546487",
     "status": "completed"
    },
    "tags": []
   },
   "source": [
    "Sweet!"
   ]
  },
  {
   "cell_type": "markdown",
   "execution_count": null,
   "metadata": {
    "papermill": {
     "duration": 0.02663,
     "end_time": "2020-08-18T06:30:04.628518",
     "exception": false,
     "start_time": "2020-08-18T06:30:04.601888",
     "status": "completed"
    },
    "tags": []
   },
   "source": [
    "**Extracting more variables**"
   ]
  },
  {
   "cell_type": "code",
   "execution_count": 29,
   "metadata": {
    "execution": {
     "iopub.execute_input": "2020-08-18T06:30:04.692016Z",
     "iopub.status.busy": "2020-08-18T06:30:04.691079Z",
     "iopub.status.idle": "2020-08-18T06:30:04.696562Z",
     "shell.execute_reply": "2020-08-18T06:30:04.695854Z"
    },
    "papermill": {
     "duration": 0.040255,
     "end_time": "2020-08-18T06:30:04.696727",
     "exception": false,
     "start_time": "2020-08-18T06:30:04.656472",
     "status": "completed"
    },
    "tags": []
   },
   "outputs": [
    {
     "data": {
      "text/plain": [
       "['Vst어도/아도/여도']"
      ]
     },
     "execution_count": 29,
     "metadata": {},
     "output_type": "execute_result"
    }
   ],
   "source": [
    "# Extracting grammar of the day\n",
    "grammar = re.findall(r'<span jxb-bind-compiled-html.+item[.]entry_name.+\"ng-scope\">(.+)</span></span>\\s+</div>', page)\n",
    "grammar = list(map(strip_tags, grammar))\n",
    "grammar"
   ]
  },
  {
   "cell_type": "code",
   "execution_count": 30,
   "metadata": {
    "execution": {
     "iopub.execute_input": "2020-08-18T06:30:04.759950Z",
     "iopub.status.busy": "2020-08-18T06:30:04.759009Z",
     "iopub.status.idle": "2020-08-18T06:30:04.764568Z",
     "shell.execute_reply": "2020-08-18T06:30:04.763745Z"
    },
    "papermill": {
     "duration": 0.040274,
     "end_time": "2020-08-18T06:30:04.764710",
     "exception": false,
     "start_time": "2020-08-18T06:30:04.724436",
     "status": "completed"
    },
    "tags": []
   },
   "outputs": [
    {
     "data": {
      "text/plain": [
       "['It is used to indicate the contents of the latter clause are unpredictable consequences from the contents of the preceding clause.']"
      ]
     },
     "execution_count": 30,
     "metadata": {},
     "output_type": "execute_result"
    }
   ],
   "source": [
    "# Extracting grammar description\n",
    "grammar_desc = re.findall(r'<span class=\"txt_trans ng-binding\" ng-bind=\"item.mean\">(.+)</span>\\s+</div>', page)\n",
    "grammar_desc = list(map(strip_tags, grammar_desc))\n",
    "grammar_desc"
   ]
  },
  {
   "cell_type": "code",
   "execution_count": 31,
   "metadata": {
    "execution": {
     "iopub.execute_input": "2020-08-18T06:30:04.828731Z",
     "iopub.status.busy": "2020-08-18T06:30:04.827520Z",
     "iopub.status.idle": "2020-08-18T06:30:04.832261Z",
     "shell.execute_reply": "2020-08-18T06:30:04.831499Z"
    },
    "papermill": {
     "duration": 0.039871,
     "end_time": "2020-08-18T06:30:04.832395",
     "exception": false,
     "start_time": "2020-08-18T06:30:04.792524",
     "status": "completed"
    },
    "tags": []
   },
   "outputs": [
    {
     "data": {
      "text/plain": [
       "[\"There will be good results if you endure and work hard though it's difficult.\",\n",
       " 'Are you going on a trip though it rains?',\n",
       " \"I always brush my teeth though I'm tired.\"]"
      ]
     },
     "execution_count": 31,
     "metadata": {},
     "output_type": "execute_result"
    }
   ],
   "source": [
    "# Extracting grammar of the day sentence examples\n",
    "grammar_sents_eng = re.findall(r'<span class=\"txt_trans ng-binding\" ng-bind-html=\"desc[.]trans.+toHtml\">(.+)</span>', page)\n",
    "grammar_sents_eng"
   ]
  },
  {
   "cell_type": "code",
   "execution_count": 32,
   "metadata": {
    "execution": {
     "iopub.execute_input": "2020-08-18T06:30:04.897923Z",
     "iopub.status.busy": "2020-08-18T06:30:04.896917Z",
     "iopub.status.idle": "2020-08-18T06:30:04.902056Z",
     "shell.execute_reply": "2020-08-18T06:30:04.901270Z"
    },
    "papermill": {
     "duration": 0.041987,
     "end_time": "2020-08-18T06:30:04.902202",
     "exception": false,
     "start_time": "2020-08-18T06:30:04.860215",
     "status": "completed"
    },
    "tags": []
   },
   "outputs": [
    {
     "data": {
      "text/plain": [
       "['힘들어도 참고 열심히 일하면 좋은 결과가 있을 거예요.', '비가 와도 여행을 갈 거야?', '저는 피곤해도 이를 꼭 닦고 자요.']"
      ]
     },
     "execution_count": 32,
     "metadata": {},
     "output_type": "execute_result"
    }
   ],
   "source": [
    "grammar_sents_kor = re.findall(r'<span class=\"txt_origin ng-isolate-scope\" jxb-bind-compiled-html=\"toAutolinkText\\(desc[.]origin\\)\"><span class=\"ng-scope\"><span class=\"u_word_dic\" data-hook=\"tip\" data-type=\"arken\" data-lang=\"ko\">(.+)</span></span>', page)\n",
    "grammar_sents_kor = list(map(strip_tags, grammar_sents_kor))\n",
    "grammar_sents_kor"
   ]
  },
  {
   "cell_type": "markdown",
   "execution_count": null,
   "metadata": {
    "papermill": {
     "duration": 0.027555,
     "end_time": "2020-08-18T06:30:04.957651",
     "exception": false,
     "start_time": "2020-08-18T06:30:04.930096",
     "status": "completed"
    },
    "tags": []
   },
   "source": [
    "**Organizing variables for DataFrame creation**"
   ]
  },
  {
   "cell_type": "markdown",
   "execution_count": null,
   "metadata": {
    "papermill": {
     "duration": 0.027556,
     "end_time": "2020-08-18T06:30:05.013626",
     "exception": false,
     "start_time": "2020-08-18T06:30:04.986070",
     "status": "completed"
    },
    "tags": []
   },
   "source": [
    "Let's create two DataFrames:\n",
    "\n",
    "**convo_titles**\n",
    "(with columns: date, kor_title, eng_title, grammar, grammar_desc, grammar_sents)\n",
    "\n",
    "**convos**\n",
    "(with columns: date, conversation_id, kor_sent, eng_sent, qna_id)\n",
    "\n",
    "Each convo_title has more or less 4 - 8 Korean-English sentence pairs found in convos_table."
   ]
  },
  {
   "cell_type": "markdown",
   "execution_count": null,
   "metadata": {
    "papermill": {
     "duration": 0.028527,
     "end_time": "2020-08-18T06:30:05.069812",
     "exception": false,
     "start_time": "2020-08-18T06:30:05.041285",
     "status": "completed"
    },
    "tags": []
   },
   "source": [
    "Creating convo_titles DataFrame"
   ]
  },
  {
   "cell_type": "code",
   "execution_count": 33,
   "metadata": {
    "execution": {
     "iopub.execute_input": "2020-08-18T06:30:05.144640Z",
     "iopub.status.busy": "2020-08-18T06:30:05.143520Z",
     "iopub.status.idle": "2020-08-18T06:30:05.148911Z",
     "shell.execute_reply": "2020-08-18T06:30:05.148115Z"
    },
    "papermill": {
     "duration": 0.050936,
     "end_time": "2020-08-18T06:30:05.149047",
     "exception": false,
     "start_time": "2020-08-18T06:30:05.098111",
     "status": "completed"
    },
    "tags": []
   },
   "outputs": [
    {
     "data": {
      "text/html": [
       "<div>\n",
       "<style scoped>\n",
       "    .dataframe tbody tr th:only-of-type {\n",
       "        vertical-align: middle;\n",
       "    }\n",
       "\n",
       "    .dataframe tbody tr th {\n",
       "        vertical-align: top;\n",
       "    }\n",
       "\n",
       "    .dataframe thead th {\n",
       "        text-align: right;\n",
       "    }\n",
       "</style>\n",
       "<table border=\"1\" class=\"dataframe\">\n",
       "  <thead>\n",
       "    <tr style=\"text-align: right;\">\n",
       "      <th></th>\n",
       "      <th>date</th>\n",
       "      <th>kor_title</th>\n",
       "      <th>eng_title</th>\n",
       "      <th>grammar</th>\n",
       "      <th>grammar_desc</th>\n",
       "    </tr>\n",
       "  </thead>\n",
       "  <tbody>\n",
       "    <tr>\n",
       "      <th>0</th>\n",
       "      <td>20200818</td>\n",
       "      <td>오랜만에 만나도 어색하지 않은 것 같아요.</td>\n",
       "      <td>I don't feel awkward though it’s been a while ...</td>\n",
       "      <td>Vst어도/아도/여도</td>\n",
       "      <td>It is used to indicate the contents of the lat...</td>\n",
       "    </tr>\n",
       "  </tbody>\n",
       "</table>\n",
       "</div>"
      ],
      "text/plain": [
       "       date                kor_title  \\\n",
       "0  20200818  오랜만에 만나도 어색하지 않은 것 같아요.   \n",
       "\n",
       "                                           eng_title      grammar  \\\n",
       "0  I don't feel awkward though it’s been a while ...  Vst어도/아도/여도   \n",
       "\n",
       "                                        grammar_desc  \n",
       "0  It is used to indicate the contents of the lat...  "
      ]
     },
     "execution_count": 33,
     "metadata": {},
     "output_type": "execute_result"
    }
   ],
   "source": [
    "# convo_titles dataframe columns\n",
    "title_cols = {\n",
    "    'date': date,\n",
    "    'kor_title': kor_title,\n",
    "    'eng_title': eng_title,\n",
    "    'grammar': grammar,\n",
    "    'grammar_desc': grammar_desc\n",
    "}\n",
    "\n",
    "# Creating convo_titles DataFrame\n",
    "convo_titles = pd.DataFrame(title_cols)\n",
    "convo_titles"
   ]
  },
  {
   "cell_type": "code",
   "execution_count": 34,
   "metadata": {
    "execution": {
     "iopub.execute_input": "2020-08-18T06:30:05.230895Z",
     "iopub.status.busy": "2020-08-18T06:30:05.229628Z",
     "iopub.status.idle": "2020-08-18T06:30:05.234605Z",
     "shell.execute_reply": "2020-08-18T06:30:05.233716Z"
    },
    "papermill": {
     "duration": 0.056678,
     "end_time": "2020-08-18T06:30:05.234753",
     "exception": false,
     "start_time": "2020-08-18T06:30:05.178075",
     "status": "completed"
    },
    "tags": []
   },
   "outputs": [
    {
     "data": {
      "text/html": [
       "<div>\n",
       "<style scoped>\n",
       "    .dataframe tbody tr th:only-of-type {\n",
       "        vertical-align: middle;\n",
       "    }\n",
       "\n",
       "    .dataframe tbody tr th {\n",
       "        vertical-align: top;\n",
       "    }\n",
       "\n",
       "    .dataframe thead th {\n",
       "        text-align: right;\n",
       "    }\n",
       "</style>\n",
       "<table border=\"1\" class=\"dataframe\">\n",
       "  <thead>\n",
       "    <tr style=\"text-align: right;\">\n",
       "      <th></th>\n",
       "      <th>date</th>\n",
       "      <th>kor_title</th>\n",
       "      <th>eng_title</th>\n",
       "      <th>grammar</th>\n",
       "      <th>grammar_desc</th>\n",
       "      <th>grammar_kor_sent_1</th>\n",
       "      <th>grammar_eng_sent_1</th>\n",
       "      <th>grammar_kor_sent_2</th>\n",
       "      <th>grammar_eng_sent_2</th>\n",
       "      <th>grammar_kor_sent_3</th>\n",
       "      <th>grammar_eng_sent_3</th>\n",
       "    </tr>\n",
       "  </thead>\n",
       "  <tbody>\n",
       "    <tr>\n",
       "      <th>0</th>\n",
       "      <td>20200818</td>\n",
       "      <td>오랜만에 만나도 어색하지 않은 것 같아요.</td>\n",
       "      <td>I don't feel awkward though it’s been a while ...</td>\n",
       "      <td>Vst어도/아도/여도</td>\n",
       "      <td>It is used to indicate the contents of the lat...</td>\n",
       "      <td>힘들어도 참고 열심히 일하면 좋은 결과가 있을 거예요.</td>\n",
       "      <td>There will be good results if you endure and w...</td>\n",
       "      <td>비가 와도 여행을 갈 거야?</td>\n",
       "      <td>Are you going on a trip though it rains?</td>\n",
       "      <td>저는 피곤해도 이를 꼭 닦고 자요.</td>\n",
       "      <td>I always brush my teeth though I'm tired.</td>\n",
       "    </tr>\n",
       "  </tbody>\n",
       "</table>\n",
       "</div>"
      ],
      "text/plain": [
       "       date                kor_title  \\\n",
       "0  20200818  오랜만에 만나도 어색하지 않은 것 같아요.   \n",
       "\n",
       "                                           eng_title      grammar  \\\n",
       "0  I don't feel awkward though it’s been a while ...  Vst어도/아도/여도   \n",
       "\n",
       "                                        grammar_desc  \\\n",
       "0  It is used to indicate the contents of the lat...   \n",
       "\n",
       "               grammar_kor_sent_1  \\\n",
       "0  힘들어도 참고 열심히 일하면 좋은 결과가 있을 거예요.   \n",
       "\n",
       "                                  grammar_eng_sent_1 grammar_kor_sent_2  \\\n",
       "0  There will be good results if you endure and w...    비가 와도 여행을 갈 거야?   \n",
       "\n",
       "                         grammar_eng_sent_2   grammar_kor_sent_3  \\\n",
       "0  Are you going on a trip though it rains?  저는 피곤해도 이를 꼭 닦고 자요.   \n",
       "\n",
       "                          grammar_eng_sent_3  \n",
       "0  I always brush my teeth though I'm tired.  "
      ]
     },
     "execution_count": 34,
     "metadata": {},
     "output_type": "execute_result"
    }
   ],
   "source": [
    "# Adding new columns: grammar sentence examples    \n",
    "for i in range(len(grammar_sents_eng)):\n",
    "    col = f'grammar_kor_sent_{i+1}'\n",
    "    convo_titles[col] = grammar_sents_kor[i]\n",
    "    col = f'grammar_eng_sent_{i+1}'\n",
    "    convo_titles[col] = grammar_sents_eng[i]\n",
    "    \n",
    "convo_titles"
   ]
  },
  {
   "cell_type": "markdown",
   "execution_count": null,
   "metadata": {
    "papermill": {
     "duration": 0.028746,
     "end_time": "2020-08-18T06:30:05.292524",
     "exception": false,
     "start_time": "2020-08-18T06:30:05.263778",
     "status": "completed"
    },
    "tags": []
   },
   "source": [
    "Creating convos DataFrame"
   ]
  },
  {
   "cell_type": "code",
   "execution_count": 35,
   "metadata": {
    "execution": {
     "iopub.execute_input": "2020-08-18T06:30:05.376754Z",
     "iopub.status.busy": "2020-08-18T06:30:05.375502Z",
     "iopub.status.idle": "2020-08-18T06:30:05.380317Z",
     "shell.execute_reply": "2020-08-18T06:30:05.380907Z"
    },
    "papermill": {
     "duration": 0.059976,
     "end_time": "2020-08-18T06:30:05.381093",
     "exception": false,
     "start_time": "2020-08-18T06:30:05.321117",
     "status": "completed"
    },
    "tags": []
   },
   "outputs": [
    {
     "data": {
      "text/html": [
       "<div>\n",
       "<style scoped>\n",
       "    .dataframe tbody tr th:only-of-type {\n",
       "        vertical-align: middle;\n",
       "    }\n",
       "\n",
       "    .dataframe tbody tr th {\n",
       "        vertical-align: top;\n",
       "    }\n",
       "\n",
       "    .dataframe thead th {\n",
       "        text-align: right;\n",
       "    }\n",
       "</style>\n",
       "<table border=\"1\" class=\"dataframe\">\n",
       "  <thead>\n",
       "    <tr style=\"text-align: right;\">\n",
       "      <th></th>\n",
       "      <th>date</th>\n",
       "      <th>conversation_id</th>\n",
       "      <th>kor_sent</th>\n",
       "      <th>eng_sent</th>\n",
       "      <th>qna_id</th>\n",
       "    </tr>\n",
       "  </thead>\n",
       "  <tbody>\n",
       "    <tr>\n",
       "      <th>0</th>\n",
       "      <td>20200818</td>\n",
       "      <td>1</td>\n",
       "      <td>지난 주말을 어떻게 보냈어요?</td>\n",
       "      <td>How did you spend your weekend?</td>\n",
       "      <td></td>\n",
       "    </tr>\n",
       "    <tr>\n",
       "      <th>1</th>\n",
       "      <td>20200818</td>\n",
       "      <td>2</td>\n",
       "      <td>초등학교 동창회에 가서 친구들을 만났어요.</td>\n",
       "      <td>I went to my elementary school alumni meeting,...</td>\n",
       "      <td></td>\n",
       "    </tr>\n",
       "    <tr>\n",
       "      <th>2</th>\n",
       "      <td>20200818</td>\n",
       "      <td>3</td>\n",
       "      <td>오랜만에 만났는데 어색하지 않았어요?</td>\n",
       "      <td>Didn’t you feel awkward because it's been a wh...</td>\n",
       "      <td></td>\n",
       "    </tr>\n",
       "    <tr>\n",
       "      <th>3</th>\n",
       "      <td>20200818</td>\n",
       "      <td>4</td>\n",
       "      <td>어렸을 때 친구는 오랜만에 만나도 어색하지 않은 것 같아요.</td>\n",
       "      <td>I don't feel awkward though it’s been a while ...</td>\n",
       "      <td></td>\n",
       "    </tr>\n",
       "    <tr>\n",
       "      <th>4</th>\n",
       "      <td>20200818</td>\n",
       "      <td>5</td>\n",
       "      <td>저도 어렸을 때 친구들이 생각나네요.</td>\n",
       "      <td>I remember my friends from my childhood when I...</td>\n",
       "      <td></td>\n",
       "    </tr>\n",
       "    <tr>\n",
       "      <th>5</th>\n",
       "      <td>20200818</td>\n",
       "      <td>6</td>\n",
       "      <td>서연 씨가 먼저 친구들에게 연락해 보세요.</td>\n",
       "      <td>Ms. Seoyon, why don't you first contact your f...</td>\n",
       "      <td></td>\n",
       "    </tr>\n",
       "  </tbody>\n",
       "</table>\n",
       "</div>"
      ],
      "text/plain": [
       "       date  conversation_id                           kor_sent  \\\n",
       "0  20200818                1                   지난 주말을 어떻게 보냈어요?   \n",
       "1  20200818                2            초등학교 동창회에 가서 친구들을 만났어요.   \n",
       "2  20200818                3               오랜만에 만났는데 어색하지 않았어요?   \n",
       "3  20200818                4  어렸을 때 친구는 오랜만에 만나도 어색하지 않은 것 같아요.   \n",
       "4  20200818                5               저도 어렸을 때 친구들이 생각나네요.   \n",
       "5  20200818                6            서연 씨가 먼저 친구들에게 연락해 보세요.   \n",
       "\n",
       "                                            eng_sent qna_id  \n",
       "0                    How did you spend your weekend?         \n",
       "1  I went to my elementary school alumni meeting,...         \n",
       "2  Didn’t you feel awkward because it's been a wh...         \n",
       "3  I don't feel awkward though it’s been a while ...         \n",
       "4  I remember my friends from my childhood when I...         \n",
       "5  Ms. Seoyon, why don't you first contact your f...         "
      ]
     },
     "execution_count": 35,
     "metadata": {},
     "output_type": "execute_result"
    }
   ],
   "source": [
    "# convos dataframe columns\n",
    "convos_cols = {\n",
    "    'date': [date for date in date for _ in range(len(eng_sents))],\n",
    "    'conversation_id': [id+1 for id, _ in enumerate(eng_sents)],\n",
    "    'kor_sent': kor_sents,\n",
    "    'eng_sent': eng_sents,\n",
    "    'qna_id': ''  # from sender or receiver, message or feedback\n",
    "}\n",
    "\n",
    "# Creating convos DataFrame\n",
    "convos = pd.DataFrame(convos_cols)\n",
    "convos"
   ]
  },
  {
   "cell_type": "code",
   "execution_count": 36,
   "metadata": {
    "execution": {
     "iopub.execute_input": "2020-08-18T06:30:05.450184Z",
     "iopub.status.busy": "2020-08-18T06:30:05.448034Z",
     "iopub.status.idle": "2020-08-18T06:30:08.525917Z",
     "shell.execute_reply": "2020-08-18T06:30:08.525205Z"
    },
    "papermill": {
     "duration": 3.115676,
     "end_time": "2020-08-18T06:30:08.526048",
     "exception": false,
     "start_time": "2020-08-18T06:30:05.410372",
     "status": "completed"
    },
    "tags": []
   },
   "outputs": [
    {
     "name": "stdout",
     "output_type": "stream",
     "text": [
      "__notebook__.ipynb  screenshot.png\r\n"
     ]
    }
   ],
   "source": [
    "# Deleting unwanted files in working directory\n",
    "!rm -rf firefox\n",
    "!rm firefox-79.0.tar.bz2\n",
    "!rm geckodriver.log\n",
    "!ls ../working"
   ]
  },
  {
   "cell_type": "markdown",
   "execution_count": null,
   "metadata": {
    "papermill": {
     "duration": 0.028617,
     "end_time": "2020-08-18T06:30:08.584209",
     "exception": false,
     "start_time": "2020-08-18T06:30:08.555592",
     "status": "completed"
    },
    "tags": []
   },
   "source": [
    "**Save to file: conversations.csv, conversations_titles.csv**"
   ]
  },
  {
   "cell_type": "code",
   "execution_count": 37,
   "metadata": {
    "execution": {
     "iopub.execute_input": "2020-08-18T06:30:08.650417Z",
     "iopub.status.busy": "2020-08-18T06:30:08.649432Z",
     "iopub.status.idle": "2020-08-18T06:30:08.764819Z",
     "shell.execute_reply": "2020-08-18T06:30:08.763956Z"
    },
    "papermill": {
     "duration": 0.151161,
     "end_time": "2020-08-18T06:30:08.764960",
     "exception": false,
     "start_time": "2020-08-18T06:30:08.613799",
     "status": "completed"
    },
    "tags": []
   },
   "outputs": [],
   "source": [
    "convos.to_csv('conversations.csv', index = False)\n",
    "convo_titles.to_csv('conversations_titles.csv', index = False)"
   ]
  },
  {
   "cell_type": "markdown",
   "execution_count": null,
   "metadata": {
    "papermill": {
     "duration": 0.029937,
     "end_time": "2020-08-18T06:30:08.824312",
     "exception": false,
     "start_time": "2020-08-18T06:30:08.794375",
     "status": "completed"
    },
    "tags": []
   },
   "source": [
    "Now, let's do these for years' worth of conversations via script."
   ]
  },
  {
   "cell_type": "markdown",
   "execution_count": null,
   "metadata": {
    "papermill": {
     "duration": 0.030339,
     "end_time": "2020-08-18T06:30:08.883752",
     "exception": false,
     "start_time": "2020-08-18T06:30:08.853413",
     "status": "completed"
    },
    "tags": []
   },
   "source": [
    "**Up next:**\n",
    "* Automation and scripting: Looping through dates, extracting conversation per date\n",
    "* Dataset creation: Making the dataset user-friendly\n",
    "* Applications: I could make tons of flashcards, for now"
   ]
  },
  {
   "cell_type": "markdown",
   "execution_count": null,
   "metadata": {
    "papermill": {
     "duration": 0.02836,
     "end_time": "2020-08-18T06:30:08.942457",
     "exception": false,
     "start_time": "2020-08-18T06:30:08.914097",
     "status": "completed"
    },
    "tags": []
   },
   "source": [
    "# References\n",
    "* [K-MOOC: Python Web Scraping](http://blog.naver.com/PostView.nhn?blogId=powhy123&logNo=221193422772&categoryNo=19&parentCategoryNo=0&viewDate=&currentPage=1&postListTopCurrentPage=1&from=postView)\n",
    "* [Kaggle web scraping via headless Firefox+selenium](https://www.kaggle.com/dierickx3/kaggle-web-scraping-via-headless-firefox-selenium)"
   ]
  }
 ],
 "metadata": {
  "kernelspec": {
   "display_name": "Python 3",
   "language": "python",
   "name": "python3"
  },
  "language_info": {
   "codemirror_mode": {
    "name": "ipython",
    "version": 3
   },
   "file_extension": ".py",
   "mimetype": "text/x-python",
   "name": "python",
   "nbconvert_exporter": "python",
   "pygments_lexer": "ipython3",
   "version": "3.7.6"
  },
  "papermill": {
   "duration": 99.614642,
   "end_time": "2020-08-18T06:30:09.089160",
   "environment_variables": {},
   "exception": null,
   "input_path": "__notebook__.ipynb",
   "output_path": "__notebook__.ipynb",
   "parameters": {},
   "start_time": "2020-08-18T06:28:29.474518",
   "version": "2.1.0"
  }
 },
 "nbformat": 4,
 "nbformat_minor": 4
}
