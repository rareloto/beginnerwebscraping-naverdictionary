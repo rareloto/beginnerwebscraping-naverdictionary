{
 "cells": [
  {
   "cell_type": "markdown",
   "execution_count": null,
   "metadata": {
    "papermill": {
     "duration": 0.019721,
     "end_time": "2020-08-19T15:22:04.036230",
     "exception": false,
     "start_time": "2020-08-19T15:22:04.016509",
     "status": "completed"
    },
    "tags": []
   },
   "source": [
    "# Naver Conversation of the Day"
   ]
  },
  {
   "cell_type": "markdown",
   "execution_count": null,
   "metadata": {
    "papermill": {
     "duration": 0.015919,
     "end_time": "2020-08-19T15:22:04.068653",
     "exception": false,
     "start_time": "2020-08-19T15:22:04.052734",
     "status": "completed"
    },
    "tags": []
   },
   "source": [
    "![Conversation of the Day](https://raw.githubusercontent.com/rareloto/workspace/master/naverdictionary-conversationoftheday-scraper/naver-conversationoftheday-20200815-cropped.png)"
   ]
  },
  {
   "cell_type": "markdown",
   "execution_count": null,
   "metadata": {
    "papermill": {
     "duration": 0.015933,
     "end_time": "2020-08-19T15:22:04.100944",
     "exception": false,
     "start_time": "2020-08-19T15:22:04.085011",
     "status": "completed"
    },
    "tags": []
   },
   "source": [
    "Hi! Welcome to my notebook.\n",
    "\n",
    "I want to create a compilation of **Korean - English sentence pairs** from **Naver Dictionary's Conversation of the Day**.\n",
    "\n",
    "At first I thought, I could type them out one by one, day by day to reinforce my Korean language learning in addition to creating a dataset for future projects (*like maybe a bilingual AI chatbot*).\n",
    "\n",
    "But then, I remembered something called **'web scraping'**. Simply put, it is a technique of automatically extracting (*or scraping*) specific data you want from websites and saving them to a file or a database.\n",
    "\n",
    "In this notebook, I'm going to take my first dip in web scraping in order to compile months, years of 'Conversation of the Day' from [Naver Dictionary](https://learn.dict.naver.com/conversation#/korean-en)."
   ]
  },
  {
   "cell_type": "markdown",
   "execution_count": null,
   "metadata": {
    "papermill": {
     "duration": 0.016052,
     "end_time": "2020-08-19T15:22:04.133482",
     "exception": false,
     "start_time": "2020-08-19T15:22:04.117430",
     "status": "completed"
    },
    "tags": []
   },
   "source": [
    "# What I'm Expecting to Get From Scraping"
   ]
  },
  {
   "cell_type": "code",
   "execution_count": 1,
   "metadata": {
    "execution": {
     "iopub.execute_input": "2020-08-19T15:22:04.176296Z",
     "iopub.status.busy": "2020-08-19T15:22:04.175462Z",
     "iopub.status.idle": "2020-08-19T15:22:04.224969Z",
     "shell.execute_reply": "2020-08-19T15:22:04.224148Z"
    },
    "papermill": {
     "duration": 0.075257,
     "end_time": "2020-08-19T15:22:04.225103",
     "exception": false,
     "start_time": "2020-08-19T15:22:04.149846",
     "status": "completed"
    },
    "tags": []
   },
   "outputs": [
    {
     "data": {
      "text/html": [
       "<div>\n",
       "<style scoped>\n",
       "    .dataframe tbody tr th:only-of-type {\n",
       "        vertical-align: middle;\n",
       "    }\n",
       "\n",
       "    .dataframe tbody tr th {\n",
       "        vertical-align: top;\n",
       "    }\n",
       "\n",
       "    .dataframe thead th {\n",
       "        text-align: right;\n",
       "    }\n",
       "</style>\n",
       "<table border=\"1\" class=\"dataframe\">\n",
       "  <thead>\n",
       "    <tr style=\"text-align: right;\">\n",
       "      <th></th>\n",
       "      <th>date</th>\n",
       "      <th>conversation_id</th>\n",
       "      <th>kor_sent</th>\n",
       "      <th>eng_sent</th>\n",
       "      <th>qna_id</th>\n",
       "    </tr>\n",
       "  </thead>\n",
       "  <tbody>\n",
       "    <tr>\n",
       "      <th>0</th>\n",
       "      <td>20171204</td>\n",
       "      <td>1</td>\n",
       "      <td>안녕하세요?</td>\n",
       "      <td>Hello.</td>\n",
       "      <td></td>\n",
       "    </tr>\n",
       "    <tr>\n",
       "      <th>1</th>\n",
       "      <td>20171204</td>\n",
       "      <td>2</td>\n",
       "      <td>네, 안녕하세요?</td>\n",
       "      <td>Hello.</td>\n",
       "      <td></td>\n",
       "    </tr>\n",
       "    <tr>\n",
       "      <th>2</th>\n",
       "      <td>20171204</td>\n",
       "      <td>3</td>\n",
       "      <td>저는 유양이에요.</td>\n",
       "      <td>I'm Yooyang.</td>\n",
       "      <td></td>\n",
       "    </tr>\n",
       "    <tr>\n",
       "      <th>3</th>\n",
       "      <td>20171204</td>\n",
       "      <td>4</td>\n",
       "      <td>저는 김우빈이에요.</td>\n",
       "      <td>I'm Kim, Woobin.</td>\n",
       "      <td></td>\n",
       "    </tr>\n",
       "    <tr>\n",
       "      <th>4</th>\n",
       "      <td>20171205</td>\n",
       "      <td>1</td>\n",
       "      <td>유양 씨는 중국 사람이에요?</td>\n",
       "      <td>Ms. Yooyang, are you Chinese?</td>\n",
       "      <td></td>\n",
       "    </tr>\n",
       "    <tr>\n",
       "      <th>...</th>\n",
       "      <td>...</td>\n",
       "      <td>...</td>\n",
       "      <td>...</td>\n",
       "      <td>...</td>\n",
       "      <td>...</td>\n",
       "    </tr>\n",
       "    <tr>\n",
       "      <th>4558</th>\n",
       "      <td>20200819</td>\n",
       "      <td>2</td>\n",
       "      <td>인터넷으로 회비를 내고 가입하면 돼요.</td>\n",
       "      <td>It's OK for you to pay the membership fee onli...</td>\n",
       "      <td></td>\n",
       "    </tr>\n",
       "    <tr>\n",
       "      <th>4559</th>\n",
       "      <td>20200819</td>\n",
       "      <td>3</td>\n",
       "      <td>팬클럽에 가입하면 뭐가 좋아요?</td>\n",
       "      <td>What is good if I join the fan club?</td>\n",
       "      <td></td>\n",
       "    </tr>\n",
       "    <tr>\n",
       "      <th>4560</th>\n",
       "      <td>20200819</td>\n",
       "      <td>4</td>\n",
       "      <td>콘서트 할 때 먼저 예매할 수 있어요.</td>\n",
       "      <td>You can reserve tickets for the concert prior ...</td>\n",
       "      <td></td>\n",
       "    </tr>\n",
       "    <tr>\n",
       "      <th>4561</th>\n",
       "      <td>20200819</td>\n",
       "      <td>5</td>\n",
       "      <td>그런데 팬클럽 회원 중에서 제가 제일 나이가 많을 것 같아요.</td>\n",
       "      <td>By the way, I might be the oldest among the fa...</td>\n",
       "      <td></td>\n",
       "    </tr>\n",
       "    <tr>\n",
       "      <th>4562</th>\n",
       "      <td>20200819</td>\n",
       "      <td>6</td>\n",
       "      <td>아니에요. 요즘에는 나이가 많은 팬들도 꽤 많아요.</td>\n",
       "      <td>No, you are not. These days, there are quite a...</td>\n",
       "      <td></td>\n",
       "    </tr>\n",
       "  </tbody>\n",
       "</table>\n",
       "<p>4563 rows × 5 columns</p>\n",
       "</div>"
      ],
      "text/plain": [
       "          date  conversation_id                            kor_sent  \\\n",
       "0     20171204                1                              안녕하세요?   \n",
       "1     20171204                2                           네, 안녕하세요?   \n",
       "2     20171204                3                           저는 유양이에요.   \n",
       "3     20171204                4                          저는 김우빈이에요.   \n",
       "4     20171205                1                     유양 씨는 중국 사람이에요?   \n",
       "...        ...              ...                                 ...   \n",
       "4558  20200819                2               인터넷으로 회비를 내고 가입하면 돼요.   \n",
       "4559  20200819                3                   팬클럽에 가입하면 뭐가 좋아요?   \n",
       "4560  20200819                4               콘서트 할 때 먼저 예매할 수 있어요.   \n",
       "4561  20200819                5  그런데 팬클럽 회원 중에서 제가 제일 나이가 많을 것 같아요.   \n",
       "4562  20200819                6        아니에요. 요즘에는 나이가 많은 팬들도 꽤 많아요.   \n",
       "\n",
       "                                               eng_sent qna_id  \n",
       "0                                                Hello.         \n",
       "1                                                Hello.         \n",
       "2                                          I'm Yooyang.         \n",
       "3                                      I'm Kim, Woobin.         \n",
       "4                         Ms. Yooyang, are you Chinese?         \n",
       "...                                                 ...    ...  \n",
       "4558  It's OK for you to pay the membership fee onli...         \n",
       "4559               What is good if I join the fan club?         \n",
       "4560  You can reserve tickets for the concert prior ...         \n",
       "4561  By the way, I might be the oldest among the fa...         \n",
       "4562  No, you are not. These days, there are quite a...         \n",
       "\n",
       "[4563 rows x 5 columns]"
      ]
     },
     "execution_count": 1,
     "metadata": {},
     "output_type": "execute_result"
    }
   ],
   "source": [
    "import pandas as pd\n",
    "\n",
    "convos_samp = pd.read_csv('../input/naver-dictionary-conversation-of-the-day/conversations.csv').fillna('')\n",
    "convos_samp"
   ]
  },
  {
   "cell_type": "code",
   "execution_count": 2,
   "metadata": {
    "execution": {
     "iopub.execute_input": "2020-08-19T15:22:04.265901Z",
     "iopub.status.busy": "2020-08-19T15:22:04.265151Z",
     "iopub.status.idle": "2020-08-19T15:22:04.294699Z",
     "shell.execute_reply": "2020-08-19T15:22:04.293957Z"
    },
    "papermill": {
     "duration": 0.052672,
     "end_time": "2020-08-19T15:22:04.294824",
     "exception": false,
     "start_time": "2020-08-19T15:22:04.242152",
     "status": "completed"
    },
    "tags": []
   },
   "outputs": [
    {
     "data": {
      "text/html": [
       "<div>\n",
       "<style scoped>\n",
       "    .dataframe tbody tr th:only-of-type {\n",
       "        vertical-align: middle;\n",
       "    }\n",
       "\n",
       "    .dataframe tbody tr th {\n",
       "        vertical-align: top;\n",
       "    }\n",
       "\n",
       "    .dataframe thead th {\n",
       "        text-align: right;\n",
       "    }\n",
       "</style>\n",
       "<table border=\"1\" class=\"dataframe\">\n",
       "  <thead>\n",
       "    <tr style=\"text-align: right;\">\n",
       "      <th></th>\n",
       "      <th>date</th>\n",
       "      <th>kor_title</th>\n",
       "      <th>eng_title</th>\n",
       "      <th>grammar</th>\n",
       "      <th>grammar_desc</th>\n",
       "    </tr>\n",
       "  </thead>\n",
       "  <tbody>\n",
       "    <tr>\n",
       "      <th>0</th>\n",
       "      <td>20171204</td>\n",
       "      <td>저는 유양이에요.</td>\n",
       "      <td>I'm Yooyang.</td>\n",
       "      <td>N은/는¹ N이에요/예요.</td>\n",
       "      <td>N is the noun. '은/는' is used with a noun to de...</td>\n",
       "    </tr>\n",
       "    <tr>\n",
       "      <th>1</th>\n",
       "      <td>20171205</td>\n",
       "      <td>유양 씨는 중국 사람이에요?</td>\n",
       "      <td>Ms. Yooyang, are you Chinese?</td>\n",
       "      <td>N은/는 N이에요/예요?</td>\n",
       "      <td>It is the interrogative form of 'N은/는 N이에요/예요'.</td>\n",
       "    </tr>\n",
       "    <tr>\n",
       "      <th>2</th>\n",
       "      <td>20171206</td>\n",
       "      <td>저는 학생이 아니에요.</td>\n",
       "      <td>I'm not a student.</td>\n",
       "      <td>N은/는 N이/가¹ 아니에요.</td>\n",
       "      <td>It is the negation of 'N은/는 N이에요/예요'. When the...</td>\n",
       "    </tr>\n",
       "    <tr>\n",
       "      <th>3</th>\n",
       "      <td>20171207</td>\n",
       "      <td>저 사람은 흐엉 씨예요.</td>\n",
       "      <td>That person is Ms. Huong.</td>\n",
       "      <td>이/그/저 N은/는 N이에요/예요.</td>\n",
       "      <td>이' is used in front of a noun to refer to some...</td>\n",
       "    </tr>\n",
       "    <tr>\n",
       "      <th>4</th>\n",
       "      <td>20171208</td>\n",
       "      <td>다니엘 씨는 스티브 씨의 남동생이에요.</td>\n",
       "      <td>Mr. Daniel is Mr. Steve's younger brother.</td>\n",
       "      <td>N은/는 N의 N이에요/예요.</td>\n",
       "      <td>의' is the particle used to make possessive for...</td>\n",
       "    </tr>\n",
       "    <tr>\n",
       "      <th>...</th>\n",
       "      <td>...</td>\n",
       "      <td>...</td>\n",
       "      <td>...</td>\n",
       "      <td>...</td>\n",
       "      <td>...</td>\n",
       "    </tr>\n",
       "    <tr>\n",
       "      <th>844</th>\n",
       "      <td>20200814</td>\n",
       "      <td>뭐 먹으면서 볼까?</td>\n",
       "      <td>Shall we eat something while we watch the game?</td>\n",
       "      <td>AVst으면서/면서</td>\n",
       "      <td>It is used to indicate an action in the preced...</td>\n",
       "    </tr>\n",
       "    <tr>\n",
       "      <th>845</th>\n",
       "      <td>20200815</td>\n",
       "      <td>시간을 내기가 쉽지 않네.</td>\n",
       "      <td>It's not easy to find time.</td>\n",
       "      <td>AVst기</td>\n",
       "      <td>It is used to make action verbs nouns.</td>\n",
       "    </tr>\n",
       "    <tr>\n",
       "      <th>846</th>\n",
       "      <td>20200817</td>\n",
       "      <td>혹시 서연 씨에게 관심 있는 거 아니에요?</td>\n",
       "      <td>By any chance, isn't it true that you are inte...</td>\n",
       "      <td>Vst는/은/ㄴ 거 아니에요?</td>\n",
       "      <td>It is used to ask the listener if the speaker'...</td>\n",
       "    </tr>\n",
       "    <tr>\n",
       "      <th>847</th>\n",
       "      <td>20200818</td>\n",
       "      <td>오랜만에 만나도 어색하지 않은 것 같아요.</td>\n",
       "      <td>I don't feel awkward though it’s been a while ...</td>\n",
       "      <td>Vst어도/아도/여도</td>\n",
       "      <td>It is used to indicate the contents of the lat...</td>\n",
       "    </tr>\n",
       "    <tr>\n",
       "      <th>848</th>\n",
       "      <td>20200819</td>\n",
       "      <td>인터넷으로 회비를 내고 가입하면 돼요.</td>\n",
       "      <td>It's OK for you to pay the membership fee onli...</td>\n",
       "      <td>Vst으면/면 돼요.</td>\n",
       "      <td>It is used to indicate any condition or action...</td>\n",
       "    </tr>\n",
       "  </tbody>\n",
       "</table>\n",
       "<p>849 rows × 5 columns</p>\n",
       "</div>"
      ],
      "text/plain": [
       "         date                kor_title  \\\n",
       "0    20171204                저는 유양이에요.   \n",
       "1    20171205          유양 씨는 중국 사람이에요?   \n",
       "2    20171206             저는 학생이 아니에요.   \n",
       "3    20171207            저 사람은 흐엉 씨예요.   \n",
       "4    20171208    다니엘 씨는 스티브 씨의 남동생이에요.   \n",
       "..        ...                      ...   \n",
       "844  20200814               뭐 먹으면서 볼까?   \n",
       "845  20200815           시간을 내기가 쉽지 않네.   \n",
       "846  20200817  혹시 서연 씨에게 관심 있는 거 아니에요?   \n",
       "847  20200818  오랜만에 만나도 어색하지 않은 것 같아요.   \n",
       "848  20200819    인터넷으로 회비를 내고 가입하면 돼요.   \n",
       "\n",
       "                                             eng_title              grammar  \\\n",
       "0                                         I'm Yooyang.       N은/는¹ N이에요/예요.   \n",
       "1                        Ms. Yooyang, are you Chinese?        N은/는 N이에요/예요?   \n",
       "2                                   I'm not a student.     N은/는 N이/가¹ 아니에요.   \n",
       "3                            That person is Ms. Huong.  이/그/저 N은/는 N이에요/예요.   \n",
       "4           Mr. Daniel is Mr. Steve's younger brother.     N은/는 N의 N이에요/예요.   \n",
       "..                                                 ...                  ...   \n",
       "844    Shall we eat something while we watch the game?           AVst으면서/면서   \n",
       "845                        It's not easy to find time.                AVst기   \n",
       "846  By any chance, isn't it true that you are inte...     Vst는/은/ㄴ 거 아니에요?   \n",
       "847  I don't feel awkward though it’s been a while ...          Vst어도/아도/여도   \n",
       "848  It's OK for you to pay the membership fee onli...          Vst으면/면 돼요.   \n",
       "\n",
       "                                          grammar_desc  \n",
       "0    N is the noun. '은/는' is used with a noun to de...  \n",
       "1      It is the interrogative form of 'N은/는 N이에요/예요'.  \n",
       "2    It is the negation of 'N은/는 N이에요/예요'. When the...  \n",
       "3    이' is used in front of a noun to refer to some...  \n",
       "4    의' is the particle used to make possessive for...  \n",
       "..                                                 ...  \n",
       "844  It is used to indicate an action in the preced...  \n",
       "845             It is used to make action verbs nouns.  \n",
       "846  It is used to ask the listener if the speaker'...  \n",
       "847  It is used to indicate the contents of the lat...  \n",
       "848  It is used to indicate any condition or action...  \n",
       "\n",
       "[849 rows x 5 columns]"
      ]
     },
     "execution_count": 2,
     "metadata": {},
     "output_type": "execute_result"
    }
   ],
   "source": [
    "convo_titles_samp = pd.read_csv('../input/naver-dictionary-conversation-of-the-day/conversation_titles.csv').fillna('')\n",
    "convo_titles_samp"
   ]
  },
  {
   "cell_type": "markdown",
   "execution_count": null,
   "metadata": {
    "papermill": {
     "duration": 0.016771,
     "end_time": "2020-08-19T15:22:04.328943",
     "exception": false,
     "start_time": "2020-08-19T15:22:04.312172",
     "status": "completed"
    },
    "tags": []
   },
   "source": [
    "Lots and lots of Korean - English conversation parallel text pairs"
   ]
  },
  {
   "cell_type": "markdown",
   "execution_count": null,
   "metadata": {
    "papermill": {
     "duration": 0.016788,
     "end_time": "2020-08-19T15:22:04.362893",
     "exception": false,
     "start_time": "2020-08-19T15:22:04.346105",
     "status": "completed"
    },
    "tags": []
   },
   "source": [
    "**Let's get started!**"
   ]
  },
  {
   "cell_type": "code",
   "execution_count": 3,
   "metadata": {
    "execution": {
     "iopub.execute_input": "2020-08-19T15:22:04.415665Z",
     "iopub.status.busy": "2020-08-19T15:22:04.414842Z",
     "iopub.status.idle": "2020-08-19T15:22:06.453603Z",
     "shell.execute_reply": "2020-08-19T15:22:06.452770Z"
    },
    "papermill": {
     "duration": 2.073707,
     "end_time": "2020-08-19T15:22:06.453738",
     "exception": false,
     "start_time": "2020-08-19T15:22:04.380031",
     "status": "completed"
    },
    "tags": []
   },
   "outputs": [],
   "source": [
    "import urllib.request\n",
    "import re\n",
    "\n",
    "# Let's try one webpage for now\n",
    "url = 'https://learn.dict.naver.com/conversation#/korean-en'\n",
    "\n",
    "page = urllib.request.urlopen(url)\n",
    "page = str(page.read().decode())\n",
    "\n",
    "# problem: not retrieving complete page html like Firefox html download does\n",
    "#          BeautifulSoup doesn't seem to retrieve complete html either\n",
    "# possible solution: should i try using headless firefox?\n",
    "# solved! - In-kernel Web scraping via a headless Firefox browser with Selenium at the bottom page"
   ]
  },
  {
   "cell_type": "markdown",
   "execution_count": null,
   "metadata": {
    "papermill": {
     "duration": 0.016806,
     "end_time": "2020-08-19T15:22:06.487962",
     "exception": false,
     "start_time": "2020-08-19T15:22:06.471156",
     "status": "completed"
    },
    "tags": []
   },
   "source": [
    "**Find patterns in the html code around the data we want to extract**"
   ]
  },
  {
   "cell_type": "markdown",
   "execution_count": null,
   "metadata": {
    "papermill": {
     "duration": 0.016884,
     "end_time": "2020-08-19T15:22:06.522072",
     "exception": false,
     "start_time": "2020-08-19T15:22:06.505188",
     "status": "completed"
    },
    "tags": []
   },
   "source": [
    "![View source code](https://raw.githubusercontent.com/rareloto/workspace/master/naverdictionary-conversationoftheday-scraper/photos/view-page-source-find-patterns-koreng.png)"
   ]
  },
  {
   "cell_type": "markdown",
   "execution_count": null,
   "metadata": {
    "papermill": {
     "duration": 0.016995,
     "end_time": "2020-08-19T15:22:06.556077",
     "exception": false,
     "start_time": "2020-08-19T15:22:06.539082",
     "status": "completed"
    },
    "tags": []
   },
   "source": [
    "**Extract data from html:** \n",
    "\n",
    "*Korean - English sentence pairs, grammar, related words, date*"
   ]
  },
  {
   "cell_type": "code",
   "execution_count": 4,
   "metadata": {
    "execution": {
     "iopub.execute_input": "2020-08-19T15:22:06.599499Z",
     "iopub.status.busy": "2020-08-19T15:22:06.598580Z",
     "iopub.status.idle": "2020-08-19T15:22:06.601842Z",
     "shell.execute_reply": "2020-08-19T15:22:06.601243Z"
    },
    "papermill": {
     "duration": 0.028773,
     "end_time": "2020-08-19T15:22:06.601993",
     "exception": false,
     "start_time": "2020-08-19T15:22:06.573220",
     "status": "completed"
    },
    "tags": []
   },
   "outputs": [],
   "source": [
    "# regex to find conversation date\n",
    "date = re.findall(r'var regionDate = \"([0-9]+)\"', page)\n",
    "# regex to find conversation title\n",
    "convo_title = re.findall(r'id=\"ogTitle\" content=\"(.+)\">', page)\n",
    "# regex to extract sentence pairs\n",
    "eng_sents = re.findall(r'<div class=\"txt_trans ng-binding\" ng-show=\"transDisplay\" ng-bind=\"item.trsl_sentence\">(.+)<.div>', page)\n",
    "# how to strip html from text - jxb-bind-compiled-html binding ?\n",
    "kor_sents = re.findall(r'<span class=\"u_word_dic\" data-hook=\"tip\" data-type=\"arken\" data-lang=\"ko\">(.+)</span>.</span></span>', page)\n",
    "\n",
    "# extracting other data (e.g. conversation title, grammar, grammar description, related words)"
   ]
  },
  {
   "cell_type": "markdown",
   "execution_count": null,
   "metadata": {
    "papermill": {
     "duration": 0.016882,
     "end_time": "2020-08-19T15:22:06.636386",
     "exception": false,
     "start_time": "2020-08-19T15:22:06.619504",
     "status": "completed"
    },
    "tags": []
   },
   "source": [
    "**Let's see if we're able to extract the data**"
   ]
  },
  {
   "cell_type": "code",
   "execution_count": 5,
   "metadata": {
    "execution": {
     "iopub.execute_input": "2020-08-19T15:22:06.676749Z",
     "iopub.status.busy": "2020-08-19T15:22:06.675683Z",
     "iopub.status.idle": "2020-08-19T15:22:06.679443Z",
     "shell.execute_reply": "2020-08-19T15:22:06.679985Z"
    },
    "papermill": {
     "duration": 0.026669,
     "end_time": "2020-08-19T15:22:06.680157",
     "exception": false,
     "start_time": "2020-08-19T15:22:06.653488",
     "status": "completed"
    },
    "tags": []
   },
   "outputs": [
    {
     "data": {
      "text/plain": [
       "['20200819']"
      ]
     },
     "execution_count": 5,
     "metadata": {},
     "output_type": "execute_result"
    }
   ],
   "source": [
    "date"
   ]
  },
  {
   "cell_type": "code",
   "execution_count": 6,
   "metadata": {
    "execution": {
     "iopub.execute_input": "2020-08-19T15:22:06.721001Z",
     "iopub.status.busy": "2020-08-19T15:22:06.720096Z",
     "iopub.status.idle": "2020-08-19T15:22:06.724810Z",
     "shell.execute_reply": "2020-08-19T15:22:06.724089Z"
    },
    "papermill": {
     "duration": 0.027381,
     "end_time": "2020-08-19T15:22:06.724976",
     "exception": false,
     "start_time": "2020-08-19T15:22:06.697595",
     "status": "completed"
    },
    "tags": []
   },
   "outputs": [
    {
     "data": {
      "text/plain": [
       "[]"
      ]
     },
     "execution_count": 6,
     "metadata": {},
     "output_type": "execute_result"
    }
   ],
   "source": [
    "kor_sents"
   ]
  },
  {
   "cell_type": "code",
   "execution_count": 7,
   "metadata": {
    "execution": {
     "iopub.execute_input": "2020-08-19T15:22:06.766495Z",
     "iopub.status.busy": "2020-08-19T15:22:06.765413Z",
     "iopub.status.idle": "2020-08-19T15:22:06.770254Z",
     "shell.execute_reply": "2020-08-19T15:22:06.769585Z"
    },
    "papermill": {
     "duration": 0.027857,
     "end_time": "2020-08-19T15:22:06.770386",
     "exception": false,
     "start_time": "2020-08-19T15:22:06.742529",
     "status": "completed"
    },
    "tags": []
   },
   "outputs": [
    {
     "data": {
      "text/plain": [
       "[]"
      ]
     },
     "execution_count": 7,
     "metadata": {},
     "output_type": "execute_result"
    }
   ],
   "source": [
    "eng_sents"
   ]
  },
  {
   "cell_type": "markdown",
   "execution_count": null,
   "metadata": {
    "papermill": {
     "duration": 0.017625,
     "end_time": "2020-08-19T15:22:06.806089",
     "exception": false,
     "start_time": "2020-08-19T15:22:06.788464",
     "status": "completed"
    },
    "tags": []
   },
   "source": [
    "The sentence pairs were not extracted because the page source we retrieved is incomplete.\n",
    "\n",
    "Maybe I'll try a headless Firefox browser here to download the complete webpage from the browser."
   ]
  },
  {
   "cell_type": "markdown",
   "execution_count": null,
   "metadata": {
    "papermill": {
     "duration": 0.017294,
     "end_time": "2020-08-19T15:22:06.841347",
     "exception": false,
     "start_time": "2020-08-19T15:22:06.824053",
     "status": "completed"
    },
    "tags": []
   },
   "source": [
    "# Web Scraping via headless Firefox with Selenium"
   ]
  },
  {
   "cell_type": "markdown",
   "execution_count": null,
   "metadata": {
    "papermill": {
     "duration": 0.017386,
     "end_time": "2020-08-19T15:22:06.876571",
     "exception": false,
     "start_time": "2020-08-19T15:22:06.859185",
     "status": "completed"
    },
    "tags": []
   },
   "source": [
    "Installing Firefox browser"
   ]
  },
  {
   "cell_type": "code",
   "execution_count": 8,
   "metadata": {
    "execution": {
     "iopub.execute_input": "2020-08-19T15:22:06.917847Z",
     "iopub.status.busy": "2020-08-19T15:22:06.917100Z",
     "iopub.status.idle": "2020-08-19T15:22:07.694598Z",
     "shell.execute_reply": "2020-08-19T15:22:07.693901Z"
    },
    "papermill": {
     "duration": 0.800423,
     "end_time": "2020-08-19T15:22:07.694729",
     "exception": false,
     "start_time": "2020-08-19T15:22:06.894306",
     "status": "completed"
    },
    "tags": []
   },
   "outputs": [
    {
     "name": "stdout",
     "output_type": "stream",
     "text": [
      "NAME=\"Ubuntu\"\r\n",
      "VERSION=\"18.04.4 LTS (Bionic Beaver)\"\r\n",
      "ID=ubuntu\r\n",
      "ID_LIKE=debian\r\n",
      "PRETTY_NAME=\"Ubuntu 18.04.4 LTS\"\r\n",
      "VERSION_ID=\"18.04\"\r\n",
      "HOME_URL=\"https://www.ubuntu.com/\"\r\n",
      "SUPPORT_URL=\"https://help.ubuntu.com/\"\r\n",
      "BUG_REPORT_URL=\"https://bugs.launchpad.net/ubuntu/\"\r\n",
      "PRIVACY_POLICY_URL=\"https://www.ubuntu.com/legal/terms-and-policies/privacy-policy\"\r\n",
      "VERSION_CODENAME=bionic\r\n",
      "UBUNTU_CODENAME=bionic\r\n"
     ]
    }
   ],
   "source": [
    "# Checking kernel OS info\n",
    "!cat /etc/os-release"
   ]
  },
  {
   "cell_type": "markdown",
   "execution_count": null,
   "metadata": {
    "papermill": {
     "duration": 0.01799,
     "end_time": "2020-08-19T15:22:07.731277",
     "exception": false,
     "start_time": "2020-08-19T15:22:07.713287",
     "status": "completed"
    },
    "tags": []
   },
   "source": [
    "Cool! Just like what I'm using right now."
   ]
  },
  {
   "cell_type": "code",
   "execution_count": 9,
   "metadata": {
    "execution": {
     "iopub.execute_input": "2020-08-19T15:22:07.775185Z",
     "iopub.status.busy": "2020-08-19T15:22:07.774408Z",
     "iopub.status.idle": "2020-08-19T15:22:29.089754Z",
     "shell.execute_reply": "2020-08-19T15:22:29.088959Z"
    },
    "papermill": {
     "duration": 21.340516,
     "end_time": "2020-08-19T15:22:29.089913",
     "exception": false,
     "start_time": "2020-08-19T15:22:07.749397",
     "status": "completed"
    },
    "tags": []
   },
   "outputs": [
    {
     "name": "stdout",
     "output_type": "stream",
     "text": [
      "--2020-08-19 15:22:08--  https://download-installer.cdn.mozilla.net/pub/firefox/releases/79.0/linux-x86_64/en-US/firefox-79.0.tar.bz2\r\n",
      "Resolving download-installer.cdn.mozilla.net (download-installer.cdn.mozilla.net)... 13.227.72.105, 2600:9000:2202:4400:e:19d6:1546:5981, 2600:9000:2202:2000:e:19d6:1546:5981, ...\r\n",
      "Connecting to download-installer.cdn.mozilla.net (download-installer.cdn.mozilla.net)|13.227.72.105|:443... connected.\r\n",
      "HTTP request sent, awaiting response... 200 OK\r\n",
      "Length: 71210168 (68M) [application/x-tar]\r\n",
      "Saving to: ‘firefox-79.0.tar.bz2’\r\n",
      "\r\n",
      "firefox-79.0.tar.bz 100%[===================>]  67.91M  14.3MB/s    in 5.0s    \r\n",
      "\r\n",
      "2020-08-19 15:22:14 (13.5 MB/s) - ‘firefox-79.0.tar.bz2’ saved [71210168/71210168]\r\n",
      "\r\n"
     ]
    }
   ],
   "source": [
    "# Downloading Firefox for Linux\n",
    "!wget 'https://download-installer.cdn.mozilla.net/pub/firefox/releases/79.0/linux-x86_64/en-US/firefox-79.0.tar.bz2'\n",
    "\n",
    "# Extracting Firefox binary\n",
    "!tar -xjf 'firefox-79.0.tar.bz2'"
   ]
  },
  {
   "cell_type": "code",
   "execution_count": 10,
   "metadata": {
    "execution": {
     "iopub.execute_input": "2020-08-19T15:22:29.141047Z",
     "iopub.status.busy": "2020-08-19T15:22:29.140217Z",
     "iopub.status.idle": "2020-08-19T15:22:29.882445Z",
     "shell.execute_reply": "2020-08-19T15:22:29.881604Z"
    },
    "papermill": {
     "duration": 0.772313,
     "end_time": "2020-08-19T15:22:29.882581",
     "exception": false,
     "start_time": "2020-08-19T15:22:29.110268",
     "status": "completed"
    },
    "tags": []
   },
   "outputs": [
    {
     "name": "stdout",
     "output_type": "stream",
     "text": [
      "__notebook__.ipynb  firefox  firefox-79.0.tar.bz2\r\n"
     ]
    }
   ],
   "source": [
    "# Checking working directory\n",
    "!ls /kaggle/working"
   ]
  },
  {
   "cell_type": "code",
   "execution_count": 11,
   "metadata": {
    "execution": {
     "iopub.execute_input": "2020-08-19T15:22:29.934542Z",
     "iopub.status.busy": "2020-08-19T15:22:29.933415Z",
     "iopub.status.idle": "2020-08-19T15:22:30.676263Z",
     "shell.execute_reply": "2020-08-19T15:22:30.674901Z"
    },
    "papermill": {
     "duration": 0.773111,
     "end_time": "2020-08-19T15:22:30.676451",
     "exception": false,
     "start_time": "2020-08-19T15:22:29.903340",
     "status": "completed"
    },
    "tags": []
   },
   "outputs": [],
   "source": [
    "# Adding read/write/execute capabilities to 'firefox' directory\n",
    "!chmod -R 777 '../working/firefox'"
   ]
  },
  {
   "cell_type": "code",
   "execution_count": 12,
   "metadata": {
    "execution": {
     "iopub.execute_input": "2020-08-19T15:22:30.731386Z",
     "iopub.status.busy": "2020-08-19T15:22:30.727212Z",
     "iopub.status.idle": "2020-08-19T15:22:37.488465Z",
     "shell.execute_reply": "2020-08-19T15:22:37.487593Z"
    },
    "papermill": {
     "duration": 6.788133,
     "end_time": "2020-08-19T15:22:37.488610",
     "exception": false,
     "start_time": "2020-08-19T15:22:30.700477",
     "status": "completed"
    },
    "tags": []
   },
   "outputs": [
    {
     "name": "stdout",
     "output_type": "stream",
     "text": [
      "\r\n",
      "\r\n",
      "\r\n",
      "libgtk-3-0 is already the newest version (3.22.30-1ubuntu4).\r\n",
      "libgtk-3-0 set to manually installed.\r\n",
      "xvfb is already the newest version (2:1.19.6-1ubuntu4.4).\r\n",
      "The following NEW packages will be installed:\r\n",
      "  libdbus-glib-1-2\r\n",
      "0 upgraded, 1 newly installed, 0 to remove and 66 not upgraded.\r\n",
      "Need to get 58.3 kB of archives.\r\n",
      "After this operation, 203 kB of additional disk space will be used.\r\n",
      "Get:1 http://archive.ubuntu.com/ubuntu bionic/main amd64 libdbus-glib-1-2 amd64 0.110-2 [58.3 kB]\r\n",
      "Fetched 58.3 kB in 1s (43.2 kB/s)\r\n",
      "debconf: delaying package configuration, since apt-utils is not installed\r\n",
      "Selecting previously unselected package libdbus-glib-1-2:amd64.\r\n",
      "(Reading database ... 107896 files and directories currently installed.)\r\n",
      "Preparing to unpack .../libdbus-glib-1-2_0.110-2_amd64.deb ...\r\n",
      "Unpacking libdbus-glib-1-2:amd64 (0.110-2) ...\r\n",
      "Setting up libdbus-glib-1-2:amd64 (0.110-2) ...\r\n",
      "Processing triggers for libc-bin (2.27-3ubuntu1) ...\r\n"
     ]
    }
   ],
   "source": [
    "# Installing Firefox dependencies\n",
    "!apt-get install -y libgtk-3-0 libdbus-glib-1-2 xvfb"
   ]
  },
  {
   "cell_type": "markdown",
   "execution_count": null,
   "metadata": {
    "papermill": {
     "duration": 0.02169,
     "end_time": "2020-08-19T15:22:37.532943",
     "exception": false,
     "start_time": "2020-08-19T15:22:37.511253",
     "status": "completed"
    },
    "tags": []
   },
   "source": [
    "Installing GeckoDriver "
   ]
  },
  {
   "cell_type": "code",
   "execution_count": 13,
   "metadata": {
    "execution": {
     "iopub.execute_input": "2020-08-19T15:22:37.587067Z",
     "iopub.status.busy": "2020-08-19T15:22:37.583293Z",
     "iopub.status.idle": "2020-08-19T15:22:50.461424Z",
     "shell.execute_reply": "2020-08-19T15:22:50.460742Z"
    },
    "papermill": {
     "duration": 12.906246,
     "end_time": "2020-08-19T15:22:50.461570",
     "exception": false,
     "start_time": "2020-08-19T15:22:37.555324",
     "status": "completed"
    },
    "tags": []
   },
   "outputs": [
    {
     "name": "stdout",
     "output_type": "stream",
     "text": [
      "Collecting webdriverdownloader\r\n",
      "  Downloading webdriverdownloader-1.1.0.3-py2.py3-none-any.whl (10 kB)\r\n",
      "Requirement already satisfied: beautifulsoup4 in /opt/conda/lib/python3.7/site-packages (from webdriverdownloader) (4.9.0)\r\n",
      "Requirement already satisfied: tqdm in /opt/conda/lib/python3.7/site-packages (from webdriverdownloader) (4.45.0)\r\n",
      "Requirement already satisfied: requests in /opt/conda/lib/python3.7/site-packages (from webdriverdownloader) (2.23.0)\r\n",
      "Requirement already satisfied: soupsieve>1.2 in /opt/conda/lib/python3.7/site-packages (from beautifulsoup4->webdriverdownloader) (1.9.4)\r\n",
      "Requirement already satisfied: idna<3,>=2.5 in /opt/conda/lib/python3.7/site-packages (from requests->webdriverdownloader) (2.9)\r\n",
      "Requirement already satisfied: certifi>=2017.4.17 in /opt/conda/lib/python3.7/site-packages (from requests->webdriverdownloader) (2020.6.20)\r\n",
      "Requirement already satisfied: urllib3!=1.25.0,!=1.25.1,<1.26,>=1.21.1 in /opt/conda/lib/python3.7/site-packages (from requests->webdriverdownloader) (1.24.3)\r\n",
      "Requirement already satisfied: chardet<4,>=3.0.2 in /opt/conda/lib/python3.7/site-packages (from requests->webdriverdownloader) (3.0.4)\r\n",
      "Installing collected packages: webdriverdownloader\r\n",
      "Successfully installed webdriverdownloader-1.1.0.3\r\n",
      "\u001b[33mWARNING: You are using pip version 20.2.1; however, version 20.2.2 is available.\r\n",
      "You should consider upgrading via the '/opt/conda/bin/python3.7 -m pip install --upgrade pip' command.\u001b[0m\r\n"
     ]
    }
   ],
   "source": [
    "# Installing Python module for automatic handling of GeckoDriver download and installation\n",
    "!pip install webdriverdownloader"
   ]
  },
  {
   "cell_type": "code",
   "execution_count": 14,
   "metadata": {
    "execution": {
     "iopub.execute_input": "2020-08-19T15:22:50.514596Z",
     "iopub.status.busy": "2020-08-19T15:22:50.513808Z",
     "iopub.status.idle": "2020-08-19T15:22:54.965992Z",
     "shell.execute_reply": "2020-08-19T15:22:54.965067Z"
    },
    "papermill": {
     "duration": 4.481024,
     "end_time": "2020-08-19T15:22:54.966157",
     "exception": false,
     "start_time": "2020-08-19T15:22:50.485133",
     "status": "completed"
    },
    "tags": []
   },
   "outputs": [
    {
     "name": "stderr",
     "output_type": "stream",
     "text": [
      "3786kb [00:01, 2563.34kb/s]                        \n"
     ]
    },
    {
     "data": {
      "text/plain": [
       "('/usr/local/webdriver/gecko/v0.23.0/geckodriver-v0.23.0-linux64/geckodriver',\n",
       " '/usr/local/bin/geckodriver')"
      ]
     },
     "execution_count": 14,
     "metadata": {},
     "output_type": "execute_result"
    }
   ],
   "source": [
    "# Installing GeckoDriver\n",
    "from webdriverdownloader import GeckoDriverDownloader\n",
    "\n",
    "gdd = GeckoDriverDownloader()\n",
    "gdd.download_and_install('v0.23.0')"
   ]
  },
  {
   "cell_type": "code",
   "execution_count": 15,
   "metadata": {
    "execution": {
     "iopub.execute_input": "2020-08-19T15:22:55.024130Z",
     "iopub.status.busy": "2020-08-19T15:22:55.020090Z",
     "iopub.status.idle": "2020-08-19T15:23:05.959283Z",
     "shell.execute_reply": "2020-08-19T15:23:05.958200Z"
    },
    "papermill": {
     "duration": 10.969127,
     "end_time": "2020-08-19T15:23:05.959447",
     "exception": false,
     "start_time": "2020-08-19T15:22:54.990320",
     "status": "completed"
    },
    "tags": []
   },
   "outputs": [
    {
     "name": "stdout",
     "output_type": "stream",
     "text": [
      "Collecting selenium\r\n",
      "  Downloading selenium-3.141.0-py2.py3-none-any.whl (904 kB)\r\n",
      "\u001b[K     |████████████████████████████████| 904 kB 192 kB/s \r\n",
      "\u001b[?25hRequirement already satisfied: urllib3 in /opt/conda/lib/python3.7/site-packages (from selenium) (1.24.3)\r\n",
      "Installing collected packages: selenium\r\n",
      "Successfully installed selenium-3.141.0\r\n",
      "\u001b[33mWARNING: You are using pip version 20.2.1; however, version 20.2.2 is available.\r\n",
      "You should consider upgrading via the '/opt/conda/bin/python3.7 -m pip install --upgrade pip' command.\u001b[0m\r\n"
     ]
    }
   ],
   "source": [
    "# Installing Selenium\n",
    "!pip install selenium"
   ]
  },
  {
   "cell_type": "code",
   "execution_count": 16,
   "metadata": {
    "execution": {
     "iopub.execute_input": "2020-08-19T15:23:06.021159Z",
     "iopub.status.busy": "2020-08-19T15:23:06.020382Z",
     "iopub.status.idle": "2020-08-19T15:23:07.019494Z",
     "shell.execute_reply": "2020-08-19T15:23:07.018612Z"
    },
    "papermill": {
     "duration": 1.034327,
     "end_time": "2020-08-19T15:23:07.019683",
     "exception": false,
     "start_time": "2020-08-19T15:23:05.985356",
     "status": "completed"
    },
    "tags": []
   },
   "outputs": [],
   "source": [
    "# Loading Python modules to use\n",
    "import pandas as pd\n",
    "import seaborn as sns\n",
    "from IPython.display import Image\n",
    "import time\n",
    "\n",
    "from selenium import webdriver as selenium_webdriver\n",
    "from selenium.webdriver.firefox.options import Options as selenium_options\n",
    "from selenium.webdriver.common.desired_capabilities import DesiredCapabilities as selenium_DesiredCapabilities\n",
    "\n",
    "from selenium.webdriver.common.by  import By as selenium_By\n",
    "from selenium.webdriver.support.ui import Select as selenium_Select\n",
    "from selenium.webdriver.support.ui import WebDriverWait as selenium_WebDriverWait\n",
    "from selenium.webdriver.support    import expected_conditions as selenium_ec"
   ]
  },
  {
   "cell_type": "code",
   "execution_count": 17,
   "metadata": {
    "execution": {
     "iopub.execute_input": "2020-08-19T15:23:07.081493Z",
     "iopub.status.busy": "2020-08-19T15:23:07.076692Z",
     "iopub.status.idle": "2020-08-19T15:23:07.816627Z",
     "shell.execute_reply": "2020-08-19T15:23:07.815968Z"
    },
    "papermill": {
     "duration": 0.771142,
     "end_time": "2020-08-19T15:23:07.816795",
     "exception": false,
     "start_time": "2020-08-19T15:23:07.045653",
     "status": "completed"
    },
    "tags": []
   },
   "outputs": [],
   "source": [
    "# Setting up a virtual screen for Firefox\n",
    "!export DISPLAY=:99"
   ]
  },
  {
   "cell_type": "code",
   "execution_count": 18,
   "metadata": {
    "execution": {
     "iopub.execute_input": "2020-08-19T15:23:07.876735Z",
     "iopub.status.busy": "2020-08-19T15:23:07.875979Z",
     "iopub.status.idle": "2020-08-19T15:23:11.050504Z",
     "shell.execute_reply": "2020-08-19T15:23:11.048370Z"
    },
    "papermill": {
     "duration": 3.208127,
     "end_time": "2020-08-19T15:23:11.050729",
     "exception": false,
     "start_time": "2020-08-19T15:23:07.842602",
     "status": "completed"
    },
    "tags": []
   },
   "outputs": [],
   "source": [
    "# Firing up a headless browser session with a screen size of 1920x1080\n",
    "browser_options = selenium_options()\n",
    "browser_options.add_argument(\"--headless\")\n",
    "browser_options.add_argument(\"--window-size=1920,1080\")\n",
    "\n",
    "capabilities_argument = selenium_DesiredCapabilities().FIREFOX\n",
    "capabilities_argument[\"marionette\"] = True\n",
    "\n",
    "browser = selenium_webdriver.Firefox(\n",
    "    options=browser_options,\n",
    "    firefox_binary=\"../working/firefox/firefox\",\n",
    "    capabilities=capabilities_argument\n",
    ")"
   ]
  },
  {
   "cell_type": "code",
   "execution_count": 19,
   "metadata": {
    "execution": {
     "iopub.execute_input": "2020-08-19T15:23:11.131142Z",
     "iopub.status.busy": "2020-08-19T15:23:11.130266Z",
     "iopub.status.idle": "2020-08-19T15:23:17.612212Z",
     "shell.execute_reply": "2020-08-19T15:23:17.611500Z"
    },
    "papermill": {
     "duration": 6.524568,
     "end_time": "2020-08-19T15:23:17.612369",
     "exception": false,
     "start_time": "2020-08-19T15:23:11.087801",
     "status": "completed"
    },
    "tags": []
   },
   "outputs": [
    {
     "name": "stdout",
     "output_type": "stream",
     "text": [
      "https://learn.dict.naver.com/conversation#/korean-en\n"
     ]
    },
    {
     "data": {
      "image/png": "[encoded data removed]",
      "text/plain": [
       "<IPython.core.display.Image object>"
      ]
     },
     "execution_count": 19,
     "metadata": {
      "image/png": {
       "height": 500,
       "width": 800
      }
     },
     "output_type": "execute_result"
    }
   ],
   "source": [
    "# Navigating to website\n",
    "browser.get(\"https://learn.dict.naver.com/conversation#/korean-en\")\n",
    "print(browser.current_url)\n",
    "\n",
    "# Giving the page up to 10 seconds to load\n",
    "wait = selenium_WebDriverWait(browser, 10)\n",
    "wait.until(selenium_ec.visibility_of_element_located((selenium_By.XPATH, '//div[@class=\"reading_lst_wrap\"]')))\n",
    "\n",
    "# Taking a screenshot of the webpage\n",
    "browser.save_screenshot(\"screenshot.png\")\n",
    "Image(\"screenshot.png\", width=800, height=500)"
   ]
  },
  {
   "cell_type": "markdown",
   "execution_count": null,
   "metadata": {
    "papermill": {
     "duration": 0.028392,
     "end_time": "2020-08-19T15:23:17.668576",
     "exception": false,
     "start_time": "2020-08-19T15:23:17.640184",
     "status": "completed"
    },
    "tags": []
   },
   "source": [
    "Awesome! Looks like we're on the same page."
   ]
  },
  {
   "cell_type": "markdown",
   "execution_count": null,
   "metadata": {
    "papermill": {
     "duration": 0.027267,
     "end_time": "2020-08-19T15:23:17.723051",
     "exception": false,
     "start_time": "2020-08-19T15:23:17.695784",
     "status": "completed"
    },
    "tags": []
   },
   "source": [
    "**Viewing page source**"
   ]
  },
  {
   "cell_type": "code",
   "execution_count": 20,
   "metadata": {
    "execution": {
     "iopub.execute_input": "2020-08-19T15:23:17.790377Z",
     "iopub.status.busy": "2020-08-19T15:23:17.789228Z",
     "iopub.status.idle": "2020-08-19T15:23:27.856437Z",
     "shell.execute_reply": "2020-08-19T15:23:27.857001Z"
    },
    "papermill": {
     "duration": 10.105361,
     "end_time": "2020-08-19T15:23:27.857186",
     "exception": false,
     "start_time": "2020-08-19T15:23:17.751825",
     "status": "completed"
    },
    "tags": []
   },
   "outputs": [
    {
     "data": {
      "text/plain": [
       "'<html xml:lang=\"ko\" ng-app=\"mainApp\" ng-controller=\"htmlController\" class=\"ng-scope\"><head><style type=\"text/css\">@charset \"UTF-8\";[ng\\\\:cloak],[ng-cloak],[data-ng-cloak],[x-ng-cloak],.ng-cloak,.x-ng-cloak,.ng-hide:not(.ng-hide-animate){display:none !important;}ng\\\\:form{display:block;}.ng-animate-shim{visibility:hidden;}.ng-anchor{position:absolute;}</style>\\n\\t\\t<meta charset=\"utf-8\">\\n\\t\\t<meta http-equiv=\"X-XSS-Protection\" content=\"1\">\\n\\t\\t<meta name=\"viewport\" id=\"viewport\" content=\"initial-scale=1.0,minimum-scale=1.0,maximum-scale=1.0,user-scalable=no\">\\n\\t\\t<!-- for Facebook -->\\n\\t\\t<meta property=\"og:title\" id=\"ogTitle\" content=\"오늘의 회화 - 인터넷으로 회비를 내고 가입하면 돼요.\">\\n\\t\\t<meta property=\"og:type\" content=\"article\">\\n\\t\\t<meta property=\"og:description\" id=\"ogDesc\" content=\"오늘은 어떤 내용일까요? 지금 확인해보세요!\">\\n\\t\\t<meta property=\"og:image\" content=\"https://ssl.pstatic.net/dicimg/wordbook-mobile-endic/img/enwordbook_icon_20171204.png\">\\n\\t\\t<meta property=\"og:url\" id=\"ogUrl\" content=\"http://m.wordbook.naver.com/endic/toda'"
      ]
     },
     "execution_count": 20,
     "metadata": {},
     "output_type": "execute_result"
    }
   ],
   "source": [
    "# Waiting for another 10 seconds to make sure the page is complete\n",
    "time.sleep(10)\n",
    "\n",
    "# Retrieving page source\n",
    "page = browser.page_source\n",
    "page[0:1000]"
   ]
  },
  {
   "cell_type": "markdown",
   "execution_count": null,
   "metadata": {
    "papermill": {
     "duration": 0.027111,
     "end_time": "2020-08-19T15:23:27.963552",
     "exception": false,
     "start_time": "2020-08-19T15:23:27.936441",
     "status": "completed"
    },
    "tags": []
   },
   "source": [
    "A bit messy.. Let's use regular expressions to find what we need."
   ]
  },
  {
   "cell_type": "code",
   "execution_count": 21,
   "metadata": {
    "execution": {
     "iopub.execute_input": "2020-08-19T15:23:28.031560Z",
     "iopub.status.busy": "2020-08-19T15:23:28.030660Z",
     "iopub.status.idle": "2020-08-19T15:23:28.034159Z",
     "shell.execute_reply": "2020-08-19T15:23:28.033414Z"
    },
    "papermill": {
     "duration": 0.043312,
     "end_time": "2020-08-19T15:23:28.034286",
     "exception": false,
     "start_time": "2020-08-19T15:23:27.990974",
     "status": "completed"
    },
    "tags": []
   },
   "outputs": [],
   "source": [
    "# regex to extract conversation date\n",
    "date = re.findall(r'var regionDate = \"([0-9]+)\"', page)\n",
    "# regex to extract conversation title in korean\n",
    "kor_title = re.findall(r'id=\"ogTitle\" content=\"오늘의 회화 - (.+)\">', page)\n",
    "# regex to extract conversation title in english\n",
    "eng_title = re.findall(r'<span class=\"txt_trans ng-binding\" ng-bind=\"title_translation\">(.+)</span>', page)\n",
    "# regex to extract sentence pairs\n",
    "eng_sents = re.findall(r'<div.+item.trsl_sentence\">(.+)</div>', page)\n",
    "kor_sents = re.findall(r'<span class=\"u_word_dic\" data-hook=\"tip\" data-type=\"arken\" data-lang=\"ko\">(.+)</span></span>', page)"
   ]
  },
  {
   "cell_type": "markdown",
   "execution_count": null,
   "metadata": {
    "papermill": {
     "duration": 0.026632,
     "end_time": "2020-08-19T15:23:28.088338",
     "exception": false,
     "start_time": "2020-08-19T15:23:28.061706",
     "status": "completed"
    },
    "tags": []
   },
   "source": [
    "Did we get it?"
   ]
  },
  {
   "cell_type": "code",
   "execution_count": 22,
   "metadata": {
    "execution": {
     "iopub.execute_input": "2020-08-19T15:23:28.148961Z",
     "iopub.status.busy": "2020-08-19T15:23:28.147814Z",
     "iopub.status.idle": "2020-08-19T15:23:28.152717Z",
     "shell.execute_reply": "2020-08-19T15:23:28.152059Z"
    },
    "papermill": {
     "duration": 0.037037,
     "end_time": "2020-08-19T15:23:28.152844",
     "exception": false,
     "start_time": "2020-08-19T15:23:28.115807",
     "status": "completed"
    },
    "tags": []
   },
   "outputs": [
    {
     "data": {
      "text/plain": [
       "['20200819']"
      ]
     },
     "execution_count": 22,
     "metadata": {},
     "output_type": "execute_result"
    }
   ],
   "source": [
    "date"
   ]
  },
  {
   "cell_type": "code",
   "execution_count": 23,
   "metadata": {
    "execution": {
     "iopub.execute_input": "2020-08-19T15:23:28.213548Z",
     "iopub.status.busy": "2020-08-19T15:23:28.212471Z",
     "iopub.status.idle": "2020-08-19T15:23:28.217272Z",
     "shell.execute_reply": "2020-08-19T15:23:28.216509Z"
    },
    "papermill": {
     "duration": 0.037034,
     "end_time": "2020-08-19T15:23:28.217403",
     "exception": false,
     "start_time": "2020-08-19T15:23:28.180369",
     "status": "completed"
    },
    "tags": []
   },
   "outputs": [
    {
     "data": {
      "text/plain": [
       "['인터넷으로 회비를 내고 가입하면 돼요.']"
      ]
     },
     "execution_count": 23,
     "metadata": {},
     "output_type": "execute_result"
    }
   ],
   "source": [
    "kor_title"
   ]
  },
  {
   "cell_type": "code",
   "execution_count": 24,
   "metadata": {
    "execution": {
     "iopub.execute_input": "2020-08-19T15:23:28.278432Z",
     "iopub.status.busy": "2020-08-19T15:23:28.277499Z",
     "iopub.status.idle": "2020-08-19T15:23:28.282122Z",
     "shell.execute_reply": "2020-08-19T15:23:28.281478Z"
    },
    "papermill": {
     "duration": 0.036942,
     "end_time": "2020-08-19T15:23:28.282254",
     "exception": false,
     "start_time": "2020-08-19T15:23:28.245312",
     "status": "completed"
    },
    "tags": []
   },
   "outputs": [
    {
     "data": {
      "text/plain": [
       "[\"It's OK for you to pay the membership fee online and join it.\"]"
      ]
     },
     "execution_count": 24,
     "metadata": {},
     "output_type": "execute_result"
    }
   ],
   "source": [
    "eng_title"
   ]
  },
  {
   "cell_type": "code",
   "execution_count": 25,
   "metadata": {
    "execution": {
     "iopub.execute_input": "2020-08-19T15:23:28.344798Z",
     "iopub.status.busy": "2020-08-19T15:23:28.343718Z",
     "iopub.status.idle": "2020-08-19T15:23:28.347357Z",
     "shell.execute_reply": "2020-08-19T15:23:28.347973Z"
    },
    "papermill": {
     "duration": 0.037905,
     "end_time": "2020-08-19T15:23:28.348144",
     "exception": false,
     "start_time": "2020-08-19T15:23:28.310239",
     "status": "completed"
    },
    "tags": []
   },
   "outputs": [
    {
     "data": {
      "text/plain": [
       "['What should I do to join the fan club?',\n",
       " \"It's OK for you to pay the membership fee online and join it.\",\n",
       " 'What is good if I join the fan club?',\n",
       " 'You can reserve tickets for the concert prior to others.',\n",
       " 'By the way, I might be the oldest among the fan club members.',\n",
       " 'No, you are not. These days, there are quite a lot of old-aged fans.']"
      ]
     },
     "execution_count": 25,
     "metadata": {},
     "output_type": "execute_result"
    }
   ],
   "source": [
    "eng_sents"
   ]
  },
  {
   "cell_type": "code",
   "execution_count": 26,
   "metadata": {
    "execution": {
     "iopub.execute_input": "2020-08-19T15:23:28.412847Z",
     "iopub.status.busy": "2020-08-19T15:23:28.411767Z",
     "iopub.status.idle": "2020-08-19T15:23:28.417442Z",
     "shell.execute_reply": "2020-08-19T15:23:28.416714Z"
    },
    "papermill": {
     "duration": 0.0413,
     "end_time": "2020-08-19T15:23:28.417573",
     "exception": false,
     "start_time": "2020-08-19T15:23:28.376273",
     "status": "completed"
    },
    "tags": []
   },
   "outputs": [
    {
     "data": {
      "text/plain": [
       "['팬클럽에</span> <span class=\"u_word_dic\" data-hook=\"tip\" data-type=\"arken\" data-lang=\"ko\">가입하려고</span> <span class=\"u_word_dic\" data-hook=\"tip\" data-type=\"arken\" data-lang=\"ko\">하는데</span> <span class=\"u_word_dic\" data-hook=\"tip\" data-type=\"arken\" data-lang=\"ko\">어떻게</span> <span class=\"u_word_dic\" data-hook=\"tip\" data-type=\"arken\" data-lang=\"ko\">해야</span> <span class=\"u_word_dic\" data-hook=\"tip\" data-type=\"arken\" data-lang=\"ko\">해요</span>?',\n",
       " '인터넷으로</span> <span class=\"u_word_dic\" data-hook=\"tip\" data-type=\"arken\" data-lang=\"ko\">회비를</span> <span class=\"u_word_dic\" data-hook=\"tip\" data-type=\"arken\" data-lang=\"ko\">내고</span> <span class=\"u_word_dic\" data-hook=\"tip\" data-type=\"arken\" data-lang=\"ko\">가입하면</span> <span class=\"u_word_dic\" data-hook=\"tip\" data-type=\"arken\" data-lang=\"ko\">돼요</span>.',\n",
       " '팬클럽에</span> <span class=\"u_word_dic\" data-hook=\"tip\" data-type=\"arken\" data-lang=\"ko\">가입하면</span> <span class=\"u_word_dic\" data-hook=\"tip\" data-type=\"arken\" data-lang=\"ko\">뭐가</span> <span class=\"u_word_dic\" data-hook=\"tip\" data-type=\"arken\" data-lang=\"ko\">좋아요</span>?']"
      ]
     },
     "execution_count": 26,
     "metadata": {},
     "output_type": "execute_result"
    }
   ],
   "source": [
    "kor_sents[0:3]"
   ]
  },
  {
   "cell_type": "code",
   "execution_count": 27,
   "metadata": {
    "execution": {
     "iopub.execute_input": "2020-08-19T15:23:28.480399Z",
     "iopub.status.busy": "2020-08-19T15:23:28.479541Z",
     "iopub.status.idle": "2020-08-19T15:23:28.483069Z",
     "shell.execute_reply": "2020-08-19T15:23:28.482429Z"
    },
    "papermill": {
     "duration": 0.037266,
     "end_time": "2020-08-19T15:23:28.483194",
     "exception": false,
     "start_time": "2020-08-19T15:23:28.445928",
     "status": "completed"
    },
    "tags": []
   },
   "outputs": [],
   "source": [
    "# Stripping HTML tags from text\n",
    "def strip_tags(sent):\n",
    "    sent = re.sub(r'<.+?>', '', sent)\n",
    "    return sent"
   ]
  },
  {
   "cell_type": "code",
   "execution_count": 28,
   "metadata": {
    "execution": {
     "iopub.execute_input": "2020-08-19T15:23:28.547465Z",
     "iopub.status.busy": "2020-08-19T15:23:28.546386Z",
     "iopub.status.idle": "2020-08-19T15:23:28.550723Z",
     "shell.execute_reply": "2020-08-19T15:23:28.550004Z"
    },
    "papermill": {
     "duration": 0.039244,
     "end_time": "2020-08-19T15:23:28.550874",
     "exception": false,
     "start_time": "2020-08-19T15:23:28.511630",
     "status": "completed"
    },
    "tags": []
   },
   "outputs": [
    {
     "data": {
      "text/plain": [
       "['팬클럽에 가입하려고 하는데 어떻게 해야 해요?',\n",
       " '인터넷으로 회비를 내고 가입하면 돼요.',\n",
       " '팬클럽에 가입하면 뭐가 좋아요?',\n",
       " '콘서트 할 때 먼저 예매할 수 있어요.',\n",
       " '그런데 팬클럽 회원 중에서 제가 제일 나이가 많을 것 같아요.',\n",
       " '아니에요. 요즘에는 나이가 많은 팬들도 꽤 많아요.']"
      ]
     },
     "execution_count": 28,
     "metadata": {},
     "output_type": "execute_result"
    }
   ],
   "source": [
    "kor_sents = list(map(strip_tags, kor_sents))\n",
    "kor_sents = kor_sents[0:len(eng_sents)]\n",
    "kor_sents"
   ]
  },
  {
   "cell_type": "markdown",
   "execution_count": null,
   "metadata": {
    "papermill": {
     "duration": 0.027566,
     "end_time": "2020-08-19T15:23:28.606748",
     "exception": false,
     "start_time": "2020-08-19T15:23:28.579182",
     "status": "completed"
    },
    "tags": []
   },
   "source": [
    "Sweet!"
   ]
  },
  {
   "cell_type": "markdown",
   "execution_count": null,
   "metadata": {
    "papermill": {
     "duration": 0.027695,
     "end_time": "2020-08-19T15:23:28.662629",
     "exception": false,
     "start_time": "2020-08-19T15:23:28.634934",
     "status": "completed"
    },
    "tags": []
   },
   "source": [
    "**Extracting more variables**"
   ]
  },
  {
   "cell_type": "code",
   "execution_count": 29,
   "metadata": {
    "execution": {
     "iopub.execute_input": "2020-08-19T15:23:28.726959Z",
     "iopub.status.busy": "2020-08-19T15:23:28.726096Z",
     "iopub.status.idle": "2020-08-19T15:23:28.729803Z",
     "shell.execute_reply": "2020-08-19T15:23:28.730347Z"
    },
    "papermill": {
     "duration": 0.039735,
     "end_time": "2020-08-19T15:23:28.730510",
     "exception": false,
     "start_time": "2020-08-19T15:23:28.690775",
     "status": "completed"
    },
    "tags": []
   },
   "outputs": [
    {
     "data": {
      "text/plain": [
       "['Vst으면/면 돼요.']"
      ]
     },
     "execution_count": 29,
     "metadata": {},
     "output_type": "execute_result"
    }
   ],
   "source": [
    "# Extracting grammar of the day\n",
    "grammar = re.findall(r'<span jxb-bind-compiled-html.+item[.]entry_name.+\"ng-scope\">(.+)</span></span>\\s+</div>', page)\n",
    "grammar = list(map(strip_tags, grammar))\n",
    "grammar"
   ]
  },
  {
   "cell_type": "code",
   "execution_count": 30,
   "metadata": {
    "execution": {
     "iopub.execute_input": "2020-08-19T15:23:28.794753Z",
     "iopub.status.busy": "2020-08-19T15:23:28.793760Z",
     "iopub.status.idle": "2020-08-19T15:23:28.798984Z",
     "shell.execute_reply": "2020-08-19T15:23:28.798239Z"
    },
    "papermill": {
     "duration": 0.040495,
     "end_time": "2020-08-19T15:23:28.799127",
     "exception": false,
     "start_time": "2020-08-19T15:23:28.758632",
     "status": "completed"
    },
    "tags": []
   },
   "outputs": [
    {
     "data": {
      "text/plain": [
       "['It is used to indicate any condition or action is sufficient or the problem is solved by that condition or action.']"
      ]
     },
     "execution_count": 30,
     "metadata": {},
     "output_type": "execute_result"
    }
   ],
   "source": [
    "# Extracting grammar description\n",
    "grammar_desc = re.findall(r'<span class=\"txt_trans ng-binding\" ng-bind=\"item.mean\">(.+)</span>\\s+</div>', page)\n",
    "grammar_desc = list(map(strip_tags, grammar_desc))\n",
    "grammar_desc"
   ]
  },
  {
   "cell_type": "code",
   "execution_count": 31,
   "metadata": {
    "execution": {
     "iopub.execute_input": "2020-08-19T15:23:28.865413Z",
     "iopub.status.busy": "2020-08-19T15:23:28.864425Z",
     "iopub.status.idle": "2020-08-19T15:23:28.869089Z",
     "shell.execute_reply": "2020-08-19T15:23:28.868441Z"
    },
    "papermill": {
     "duration": 0.040626,
     "end_time": "2020-08-19T15:23:28.869229",
     "exception": false,
     "start_time": "2020-08-19T15:23:28.828603",
     "status": "completed"
    },
    "tags": []
   },
   "outputs": [
    {
     "data": {
      "text/plain": [
       "[\"It's OK to put in pork since we have some pork though we don't have beef.\",\n",
       " \"Though the bookstore doesn't have the book that you are looking for, it's OK that you can borrow it from the library.\",\n",
       " \"It’s OK that the house is comfortable though it's not big.\"]"
      ]
     },
     "execution_count": 31,
     "metadata": {},
     "output_type": "execute_result"
    }
   ],
   "source": [
    "# Extracting grammar of the day sentence examples\n",
    "grammar_sents_eng = re.findall(r'<span class=\"txt_trans ng-binding\" ng-bind-html=\"desc[.]trans.+toHtml\">(.+)</span>', page)\n",
    "grammar_sents_eng"
   ]
  },
  {
   "cell_type": "code",
   "execution_count": 32,
   "metadata": {
    "execution": {
     "iopub.execute_input": "2020-08-19T15:23:28.935388Z",
     "iopub.status.busy": "2020-08-19T15:23:28.934399Z",
     "iopub.status.idle": "2020-08-19T15:23:28.938632Z",
     "shell.execute_reply": "2020-08-19T15:23:28.937979Z"
    },
    "papermill": {
     "duration": 0.040492,
     "end_time": "2020-08-19T15:23:28.938752",
     "exception": false,
     "start_time": "2020-08-19T15:23:28.898260",
     "status": "completed"
    },
    "tags": []
   },
   "outputs": [
    {
     "data": {
      "text/plain": [
       "['소고기가 없어도 돼지고기가 있으니까 돼지고기를 넣으면 돼요.',\n",
       " '서점에 찾는 책이 없으면 도서관에서 빌리면 돼요.',\n",
       " '집이 크지 않아도 편하면 돼요.']"
      ]
     },
     "execution_count": 32,
     "metadata": {},
     "output_type": "execute_result"
    }
   ],
   "source": [
    "grammar_sents_kor = re.findall(r'<span class=\"txt_origin ng-isolate-scope\" jxb-bind-compiled-html=\"toAutolinkText\\(desc[.]origin\\)\"><span class=\"ng-scope\"><span class=\"u_word_dic\" data-hook=\"tip\" data-type=\"arken\" data-lang=\"ko\">(.+)</span></span>', page)\n",
    "grammar_sents_kor = list(map(strip_tags, grammar_sents_kor))\n",
    "grammar_sents_kor"
   ]
  },
  {
   "cell_type": "markdown",
   "execution_count": null,
   "metadata": {
    "papermill": {
     "duration": 0.030002,
     "end_time": "2020-08-19T15:23:28.997566",
     "exception": false,
     "start_time": "2020-08-19T15:23:28.967564",
     "status": "completed"
    },
    "tags": []
   },
   "source": [
    "**Organizing variables for DataFrame creation**"
   ]
  },
  {
   "cell_type": "markdown",
   "execution_count": null,
   "metadata": {
    "papermill": {
     "duration": 0.028393,
     "end_time": "2020-08-19T15:23:29.054939",
     "exception": false,
     "start_time": "2020-08-19T15:23:29.026546",
     "status": "completed"
    },
    "tags": []
   },
   "source": [
    "Let's create two DataFrames:\n",
    "\n",
    "**convo_titles**\n",
    "(with columns: date, kor_title, eng_title, grammar, grammar_desc, grammar_sents)\n",
    "\n",
    "**convos**\n",
    "(with columns: date, conversation_id, kor_sent, eng_sent, qna_id)\n",
    "\n",
    "Each convo_title has more or less 4 - 8 Korean-English sentence pairs found in convos_table."
   ]
  },
  {
   "cell_type": "markdown",
   "execution_count": null,
   "metadata": {
    "papermill": {
     "duration": 0.028636,
     "end_time": "2020-08-19T15:23:29.112534",
     "exception": false,
     "start_time": "2020-08-19T15:23:29.083898",
     "status": "completed"
    },
    "tags": []
   },
   "source": [
    "Creating convo_titles DataFrame"
   ]
  },
  {
   "cell_type": "code",
   "execution_count": 33,
   "metadata": {
    "execution": {
     "iopub.execute_input": "2020-08-19T15:23:29.188315Z",
     "iopub.status.busy": "2020-08-19T15:23:29.187315Z",
     "iopub.status.idle": "2020-08-19T15:23:29.192144Z",
     "shell.execute_reply": "2020-08-19T15:23:29.191390Z"
    },
    "papermill": {
     "duration": 0.050558,
     "end_time": "2020-08-19T15:23:29.192275",
     "exception": false,
     "start_time": "2020-08-19T15:23:29.141717",
     "status": "completed"
    },
    "tags": []
   },
   "outputs": [
    {
     "data": {
      "text/html": [
       "<div>\n",
       "<style scoped>\n",
       "    .dataframe tbody tr th:only-of-type {\n",
       "        vertical-align: middle;\n",
       "    }\n",
       "\n",
       "    .dataframe tbody tr th {\n",
       "        vertical-align: top;\n",
       "    }\n",
       "\n",
       "    .dataframe thead th {\n",
       "        text-align: right;\n",
       "    }\n",
       "</style>\n",
       "<table border=\"1\" class=\"dataframe\">\n",
       "  <thead>\n",
       "    <tr style=\"text-align: right;\">\n",
       "      <th></th>\n",
       "      <th>date</th>\n",
       "      <th>kor_title</th>\n",
       "      <th>eng_title</th>\n",
       "      <th>grammar</th>\n",
       "      <th>grammar_desc</th>\n",
       "    </tr>\n",
       "  </thead>\n",
       "  <tbody>\n",
       "    <tr>\n",
       "      <th>0</th>\n",
       "      <td>20200819</td>\n",
       "      <td>인터넷으로 회비를 내고 가입하면 돼요.</td>\n",
       "      <td>It's OK for you to pay the membership fee onli...</td>\n",
       "      <td>Vst으면/면 돼요.</td>\n",
       "      <td>It is used to indicate any condition or action...</td>\n",
       "    </tr>\n",
       "  </tbody>\n",
       "</table>\n",
       "</div>"
      ],
      "text/plain": [
       "       date              kor_title  \\\n",
       "0  20200819  인터넷으로 회비를 내고 가입하면 돼요.   \n",
       "\n",
       "                                           eng_title      grammar  \\\n",
       "0  It's OK for you to pay the membership fee onli...  Vst으면/면 돼요.   \n",
       "\n",
       "                                        grammar_desc  \n",
       "0  It is used to indicate any condition or action...  "
      ]
     },
     "execution_count": 33,
     "metadata": {},
     "output_type": "execute_result"
    }
   ],
   "source": [
    "# convo_titles dataframe columns\n",
    "title_cols = {\n",
    "    'date': date,\n",
    "    'kor_title': kor_title,\n",
    "    'eng_title': eng_title,\n",
    "    'grammar': grammar,\n",
    "    'grammar_desc': grammar_desc\n",
    "}\n",
    "\n",
    "# Creating convo_titles DataFrame\n",
    "convo_titles = pd.DataFrame(title_cols)\n",
    "convo_titles"
   ]
  },
  {
   "cell_type": "code",
   "execution_count": 34,
   "metadata": {
    "execution": {
     "iopub.execute_input": "2020-08-19T15:23:29.275747Z",
     "iopub.status.busy": "2020-08-19T15:23:29.274631Z",
     "iopub.status.idle": "2020-08-19T15:23:29.279093Z",
     "shell.execute_reply": "2020-08-19T15:23:29.278358Z"
    },
    "papermill": {
     "duration": 0.057433,
     "end_time": "2020-08-19T15:23:29.279228",
     "exception": false,
     "start_time": "2020-08-19T15:23:29.221795",
     "status": "completed"
    },
    "tags": []
   },
   "outputs": [
    {
     "data": {
      "text/html": [
       "<div>\n",
       "<style scoped>\n",
       "    .dataframe tbody tr th:only-of-type {\n",
       "        vertical-align: middle;\n",
       "    }\n",
       "\n",
       "    .dataframe tbody tr th {\n",
       "        vertical-align: top;\n",
       "    }\n",
       "\n",
       "    .dataframe thead th {\n",
       "        text-align: right;\n",
       "    }\n",
       "</style>\n",
       "<table border=\"1\" class=\"dataframe\">\n",
       "  <thead>\n",
       "    <tr style=\"text-align: right;\">\n",
       "      <th></th>\n",
       "      <th>date</th>\n",
       "      <th>kor_title</th>\n",
       "      <th>eng_title</th>\n",
       "      <th>grammar</th>\n",
       "      <th>grammar_desc</th>\n",
       "      <th>grammar_kor_sent_1</th>\n",
       "      <th>grammar_eng_sent_1</th>\n",
       "      <th>grammar_kor_sent_2</th>\n",
       "      <th>grammar_eng_sent_2</th>\n",
       "      <th>grammar_kor_sent_3</th>\n",
       "      <th>grammar_eng_sent_3</th>\n",
       "    </tr>\n",
       "  </thead>\n",
       "  <tbody>\n",
       "    <tr>\n",
       "      <th>0</th>\n",
       "      <td>20200819</td>\n",
       "      <td>인터넷으로 회비를 내고 가입하면 돼요.</td>\n",
       "      <td>It's OK for you to pay the membership fee onli...</td>\n",
       "      <td>Vst으면/면 돼요.</td>\n",
       "      <td>It is used to indicate any condition or action...</td>\n",
       "      <td>소고기가 없어도 돼지고기가 있으니까 돼지고기를 넣으면 돼요.</td>\n",
       "      <td>It's OK to put in pork since we have some pork...</td>\n",
       "      <td>서점에 찾는 책이 없으면 도서관에서 빌리면 돼요.</td>\n",
       "      <td>Though the bookstore doesn't have the book tha...</td>\n",
       "      <td>집이 크지 않아도 편하면 돼요.</td>\n",
       "      <td>It’s OK that the house is comfortable though i...</td>\n",
       "    </tr>\n",
       "  </tbody>\n",
       "</table>\n",
       "</div>"
      ],
      "text/plain": [
       "       date              kor_title  \\\n",
       "0  20200819  인터넷으로 회비를 내고 가입하면 돼요.   \n",
       "\n",
       "                                           eng_title      grammar  \\\n",
       "0  It's OK for you to pay the membership fee onli...  Vst으면/면 돼요.   \n",
       "\n",
       "                                        grammar_desc  \\\n",
       "0  It is used to indicate any condition or action...   \n",
       "\n",
       "                  grammar_kor_sent_1  \\\n",
       "0  소고기가 없어도 돼지고기가 있으니까 돼지고기를 넣으면 돼요.   \n",
       "\n",
       "                                  grammar_eng_sent_1  \\\n",
       "0  It's OK to put in pork since we have some pork...   \n",
       "\n",
       "            grammar_kor_sent_2  \\\n",
       "0  서점에 찾는 책이 없으면 도서관에서 빌리면 돼요.   \n",
       "\n",
       "                                  grammar_eng_sent_2 grammar_kor_sent_3  \\\n",
       "0  Though the bookstore doesn't have the book tha...  집이 크지 않아도 편하면 돼요.   \n",
       "\n",
       "                                  grammar_eng_sent_3  \n",
       "0  It’s OK that the house is comfortable though i...  "
      ]
     },
     "execution_count": 34,
     "metadata": {},
     "output_type": "execute_result"
    }
   ],
   "source": [
    "# Adding new columns: grammar sentence examples    \n",
    "for i in range(len(grammar_sents_eng)):\n",
    "    col = f'grammar_kor_sent_{i+1}'\n",
    "    convo_titles[col] = grammar_sents_kor[i]\n",
    "    col = f'grammar_eng_sent_{i+1}'\n",
    "    convo_titles[col] = grammar_sents_eng[i]\n",
    "    \n",
    "convo_titles"
   ]
  },
  {
   "cell_type": "markdown",
   "execution_count": null,
   "metadata": {
    "papermill": {
     "duration": 0.029771,
     "end_time": "2020-08-19T15:23:29.338559",
     "exception": false,
     "start_time": "2020-08-19T15:23:29.308788",
     "status": "completed"
    },
    "tags": []
   },
   "source": [
    "Creating convos DataFrame"
   ]
  },
  {
   "cell_type": "code",
   "execution_count": 35,
   "metadata": {
    "execution": {
     "iopub.execute_input": "2020-08-19T15:23:29.422301Z",
     "iopub.status.busy": "2020-08-19T15:23:29.421497Z",
     "iopub.status.idle": "2020-08-19T15:23:29.426874Z",
     "shell.execute_reply": "2020-08-19T15:23:29.426221Z"
    },
    "papermill": {
     "duration": 0.058661,
     "end_time": "2020-08-19T15:23:29.427003",
     "exception": false,
     "start_time": "2020-08-19T15:23:29.368342",
     "status": "completed"
    },
    "tags": []
   },
   "outputs": [
    {
     "data": {
      "text/html": [
       "<div>\n",
       "<style scoped>\n",
       "    .dataframe tbody tr th:only-of-type {\n",
       "        vertical-align: middle;\n",
       "    }\n",
       "\n",
       "    .dataframe tbody tr th {\n",
       "        vertical-align: top;\n",
       "    }\n",
       "\n",
       "    .dataframe thead th {\n",
       "        text-align: right;\n",
       "    }\n",
       "</style>\n",
       "<table border=\"1\" class=\"dataframe\">\n",
       "  <thead>\n",
       "    <tr style=\"text-align: right;\">\n",
       "      <th></th>\n",
       "      <th>date</th>\n",
       "      <th>conversation_id</th>\n",
       "      <th>kor_sent</th>\n",
       "      <th>eng_sent</th>\n",
       "      <th>qna_id</th>\n",
       "    </tr>\n",
       "  </thead>\n",
       "  <tbody>\n",
       "    <tr>\n",
       "      <th>0</th>\n",
       "      <td>20200819</td>\n",
       "      <td>1</td>\n",
       "      <td>팬클럽에 가입하려고 하는데 어떻게 해야 해요?</td>\n",
       "      <td>What should I do to join the fan club?</td>\n",
       "      <td></td>\n",
       "    </tr>\n",
       "    <tr>\n",
       "      <th>1</th>\n",
       "      <td>20200819</td>\n",
       "      <td>2</td>\n",
       "      <td>인터넷으로 회비를 내고 가입하면 돼요.</td>\n",
       "      <td>It's OK for you to pay the membership fee onli...</td>\n",
       "      <td></td>\n",
       "    </tr>\n",
       "    <tr>\n",
       "      <th>2</th>\n",
       "      <td>20200819</td>\n",
       "      <td>3</td>\n",
       "      <td>팬클럽에 가입하면 뭐가 좋아요?</td>\n",
       "      <td>What is good if I join the fan club?</td>\n",
       "      <td></td>\n",
       "    </tr>\n",
       "    <tr>\n",
       "      <th>3</th>\n",
       "      <td>20200819</td>\n",
       "      <td>4</td>\n",
       "      <td>콘서트 할 때 먼저 예매할 수 있어요.</td>\n",
       "      <td>You can reserve tickets for the concert prior ...</td>\n",
       "      <td></td>\n",
       "    </tr>\n",
       "    <tr>\n",
       "      <th>4</th>\n",
       "      <td>20200819</td>\n",
       "      <td>5</td>\n",
       "      <td>그런데 팬클럽 회원 중에서 제가 제일 나이가 많을 것 같아요.</td>\n",
       "      <td>By the way, I might be the oldest among the fa...</td>\n",
       "      <td></td>\n",
       "    </tr>\n",
       "    <tr>\n",
       "      <th>5</th>\n",
       "      <td>20200819</td>\n",
       "      <td>6</td>\n",
       "      <td>아니에요. 요즘에는 나이가 많은 팬들도 꽤 많아요.</td>\n",
       "      <td>No, you are not. These days, there are quite a...</td>\n",
       "      <td></td>\n",
       "    </tr>\n",
       "  </tbody>\n",
       "</table>\n",
       "</div>"
      ],
      "text/plain": [
       "       date  conversation_id                            kor_sent  \\\n",
       "0  20200819                1           팬클럽에 가입하려고 하는데 어떻게 해야 해요?   \n",
       "1  20200819                2               인터넷으로 회비를 내고 가입하면 돼요.   \n",
       "2  20200819                3                   팬클럽에 가입하면 뭐가 좋아요?   \n",
       "3  20200819                4               콘서트 할 때 먼저 예매할 수 있어요.   \n",
       "4  20200819                5  그런데 팬클럽 회원 중에서 제가 제일 나이가 많을 것 같아요.   \n",
       "5  20200819                6        아니에요. 요즘에는 나이가 많은 팬들도 꽤 많아요.   \n",
       "\n",
       "                                            eng_sent qna_id  \n",
       "0             What should I do to join the fan club?         \n",
       "1  It's OK for you to pay the membership fee onli...         \n",
       "2               What is good if I join the fan club?         \n",
       "3  You can reserve tickets for the concert prior ...         \n",
       "4  By the way, I might be the oldest among the fa...         \n",
       "5  No, you are not. These days, there are quite a...         "
      ]
     },
     "execution_count": 35,
     "metadata": {},
     "output_type": "execute_result"
    }
   ],
   "source": [
    "# convos dataframe columns\n",
    "convos_cols = {\n",
    "    'date': [date for date in date for _ in range(len(eng_sents))],\n",
    "    'conversation_id': [id+1 for id, _ in enumerate(eng_sents)],\n",
    "    'kor_sent': kor_sents,\n",
    "    'eng_sent': eng_sents,\n",
    "    'qna_id': ''  # from sender or receiver, message or feedback\n",
    "}\n",
    "\n",
    "# Creating convos DataFrame\n",
    "convos = pd.DataFrame(convos_cols)\n",
    "convos"
   ]
  },
  {
   "cell_type": "markdown",
   "execution_count": null,
   "metadata": {
    "papermill": {
     "duration": 0.02995,
     "end_time": "2020-08-19T15:23:29.487091",
     "exception": false,
     "start_time": "2020-08-19T15:23:29.457141",
     "status": "completed"
    },
    "tags": []
   },
   "source": [
    "Now, let's do these for years' worth of conversations."
   ]
  },
  {
   "cell_type": "markdown",
   "execution_count": null,
   "metadata": {
    "papermill": {
     "duration": 0.029997,
     "end_time": "2020-08-19T15:23:29.547304",
     "exception": false,
     "start_time": "2020-08-19T15:23:29.517307",
     "status": "completed"
    },
    "tags": []
   },
   "source": [
    "# Scraping years' worth of data"
   ]
  },
  {
   "cell_type": "markdown",
   "execution_count": null,
   "metadata": {
    "papermill": {
     "duration": 0.029506,
     "end_time": "2020-08-19T15:23:29.606970",
     "exception": false,
     "start_time": "2020-08-19T15:23:29.577464",
     "status": "completed"
    },
    "tags": []
   },
   "source": [
    "Let's now try to scrape all the Naver Conversation of the Day data from 2017 up to today."
   ]
  },
  {
   "cell_type": "code",
   "execution_count": 36,
   "metadata": {
    "execution": {
     "iopub.execute_input": "2020-08-19T15:23:29.680416Z",
     "iopub.status.busy": "2020-08-19T15:23:29.679467Z",
     "iopub.status.idle": "2020-08-19T15:23:29.681938Z",
     "shell.execute_reply": "2020-08-19T15:23:29.682473Z"
    },
    "papermill": {
     "duration": 0.045751,
     "end_time": "2020-08-19T15:23:29.682636",
     "exception": false,
     "start_time": "2020-08-19T15:23:29.636885",
     "status": "completed"
    },
    "tags": []
   },
   "outputs": [],
   "source": [
    "# Creating 2 empty DataFrames to hold conversations and conversation titles\n",
    "title_cols = [\n",
    "    'date',  # 'Conversation of the Day' date\n",
    "    'kor_title',  # 'Conversation of the Day' title in Korean\n",
    "    'eng_title',  # english translation of the title\n",
    "    'grammar',  # grammar of the day\n",
    "    'grammar_desc'  # grammar description\n",
    "]\n",
    "convo_titles = pd.DataFrame(columns = title_cols)\n",
    "\n",
    "convos_cols = [\n",
    "    'date',  # 'Conversation of the Day' date\n",
    "    'conversation_id',  # ordered numbering to indicate conversation flow\n",
    "    'kor_sent',  # korean sentence\n",
    "    'eng_sent',  # english translation\n",
    "    'qna_id'  # from sender or receiver, message or feedback\n",
    "]\n",
    "convos = pd.DataFrame(columns = convos_cols)"
   ]
  },
  {
   "cell_type": "code",
   "execution_count": 37,
   "metadata": {
    "execution": {
     "iopub.execute_input": "2020-08-19T15:23:29.749242Z",
     "iopub.status.busy": "2020-08-19T15:23:29.748275Z",
     "iopub.status.idle": "2020-08-19T15:23:29.751287Z",
     "shell.execute_reply": "2020-08-19T15:23:29.750692Z"
    },
    "papermill": {
     "duration": 0.0386,
     "end_time": "2020-08-19T15:23:29.751416",
     "exception": false,
     "start_time": "2020-08-19T15:23:29.712816",
     "status": "completed"
    },
    "tags": []
   },
   "outputs": [],
   "source": [
    "# function to strip html tags from text\n",
    "def strip_tags(sent):\n",
    "    sent = re.sub(r'<.+?>', '', sent)\n",
    "    return sent"
   ]
  },
  {
   "cell_type": "markdown",
   "execution_count": null,
   "metadata": {
    "papermill": {
     "duration": 0.030525,
     "end_time": "2020-08-19T15:23:29.812410",
     "exception": false,
     "start_time": "2020-08-19T15:23:29.781885",
     "status": "completed"
    },
    "tags": []
   },
   "source": [
    "Extracting conversations from December 4, 2017 to August 19, 2019"
   ]
  },
  {
   "cell_type": "code",
   "execution_count": 38,
   "metadata": {
    "execution": {
     "iopub.execute_input": "2020-08-19T15:23:29.897358Z",
     "iopub.status.busy": "2020-08-19T15:23:29.892566Z",
     "iopub.status.idle": "2020-08-19T16:51:48.376547Z",
     "shell.execute_reply": "2020-08-19T16:51:48.377496Z"
    },
    "papermill": {
     "duration": 5298.536208,
     "end_time": "2020-08-19T16:51:48.379156",
     "exception": false,
     "start_time": "2020-08-19T15:23:29.842948",
     "status": "completed"
    },
    "tags": []
   },
   "outputs": [
    {
     "ename": "TimeoutException",
     "evalue": "Message: \n",
     "output_type": "error",
     "traceback": [
      "\u001b[0;31m---------------------------------------------------------------------------\u001b[0m",
      "\u001b[0;31mTimeoutException\u001b[0m                          Traceback (most recent call last)",
      "\u001b[0;32m<timed exec>\u001b[0m in \u001b[0;36m<module>\u001b[0;34m\u001b[0m\n",
      "\u001b[0;32m/opt/conda/lib/python3.7/site-packages/selenium/webdriver/support/wait.py\u001b[0m in \u001b[0;36muntil\u001b[0;34m(self, method, message)\u001b[0m\n\u001b[1;32m     78\u001b[0m             \u001b[0;32mif\u001b[0m \u001b[0mtime\u001b[0m\u001b[0;34m.\u001b[0m\u001b[0mtime\u001b[0m\u001b[0;34m(\u001b[0m\u001b[0;34m)\u001b[0m \u001b[0;34m>\u001b[0m \u001b[0mend_time\u001b[0m\u001b[0;34m:\u001b[0m\u001b[0;34m\u001b[0m\u001b[0;34m\u001b[0m\u001b[0m\n\u001b[1;32m     79\u001b[0m                 \u001b[0;32mbreak\u001b[0m\u001b[0;34m\u001b[0m\u001b[0;34m\u001b[0m\u001b[0m\n\u001b[0;32m---> 80\u001b[0;31m         \u001b[0;32mraise\u001b[0m \u001b[0mTimeoutException\u001b[0m\u001b[0;34m(\u001b[0m\u001b[0mmessage\u001b[0m\u001b[0;34m,\u001b[0m \u001b[0mscreen\u001b[0m\u001b[0;34m,\u001b[0m \u001b[0mstacktrace\u001b[0m\u001b[0;34m)\u001b[0m\u001b[0;34m\u001b[0m\u001b[0;34m\u001b[0m\u001b[0m\n\u001b[0m\u001b[1;32m     81\u001b[0m \u001b[0;34m\u001b[0m\u001b[0m\n\u001b[1;32m     82\u001b[0m     \u001b[0;32mdef\u001b[0m \u001b[0muntil_not\u001b[0m\u001b[0;34m(\u001b[0m\u001b[0mself\u001b[0m\u001b[0;34m,\u001b[0m \u001b[0mmethod\u001b[0m\u001b[0;34m,\u001b[0m \u001b[0mmessage\u001b[0m\u001b[0;34m=\u001b[0m\u001b[0;34m''\u001b[0m\u001b[0;34m)\u001b[0m\u001b[0;34m:\u001b[0m\u001b[0;34m\u001b[0m\u001b[0;34m\u001b[0m\u001b[0m\n",
      "\u001b[0;31mTimeoutException\u001b[0m: Message: \n"
     ]
    }
   ],
   "source": [
    "%%time\n",
    "start_time = time.time()\n",
    "\n",
    "start_date = '12/04/2017'\n",
    "end_date = '8/19/2020'\n",
    "\n",
    "for d in pd.date_range(start=start_date, end=end_date):\n",
    "    \n",
    "    # Skip date if Sunday (Weekly Review Quiz)\n",
    "    if d.day_name() == 'Sunday':\n",
    "        continue\n",
    "    \n",
    "    date = d.strftime('%Y%m%d')\n",
    "    \n",
    "    # Navigating to website\n",
    "    url = f\"https://learn.dict.naver.com/conversation#/korean-en/{date}\"\n",
    "    browser.get(url)\n",
    "    # print(browser.current_url)\n",
    "    \n",
    "    # Giving the page up to 10 seconds to load\n",
    "    wait = selenium_WebDriverWait(browser, 10)\n",
    "    wait.until(selenium_ec.visibility_of_element_located((selenium_By.XPATH, '//div[@class=\"reading_lst_wrap\"]')))\n",
    "    \n",
    "    # Waiting for another 10 seconds before retrieving page source\n",
    "    time.sleep(10)\n",
    "    \n",
    "    # Retrieving page source\n",
    "    page = browser.page_source\n",
    "    \n",
    "    # Extracting data from page\n",
    "    # regex to extract conversation title in korean\n",
    "    kor_title = re.findall(r'id=\"ogTitle\" content=\"오늘의 회화 - (.+)\">', page)\n",
    "    # regex to extract conversation title in english\n",
    "    eng_title = re.findall(r'<span class=\"txt_trans ng-binding\" ng-bind=\"title_translation\">(.+)</span>', page)\n",
    "    # regex to extract sentence pairs\n",
    "    eng_sents = re.findall(r'<div.+item.trsl_sentence\">(.+)</div>', page)\n",
    "    kor_sents = re.findall(r'<span class=\"u_word_dic\" data-hook=\"tip\" data-type=\"arken\" data-lang=\"ko\">(.+)</span></span>', page)\n",
    "    \n",
    "    # Stripping HTML tags from kor_sents\n",
    "    kor_sents = list(map(strip_tags, kor_sents))\n",
    "    kor_sents = kor_sents[0:len(eng_sents)]\n",
    "    \n",
    "    # Extracting grammar of the day\n",
    "    grammar = re.findall(r'<span jxb-bind-compiled-html.+item[.]entry_name.+\"ng-scope\">(.+)</span></span>\\s+</div>', page)\n",
    "    grammar = list(map(strip_tags, grammar))\n",
    "    \n",
    "    # Extracting grammar description\n",
    "    grammar_desc = re.findall(r'<span class=\"txt_trans ng-binding\" ng-bind=\"item.mean\">(.+)</span>\\s+</div>', page)\n",
    "    grammar_desc = list(map(strip_tags, grammar_desc))\n",
    "    \n",
    "    # Extracting grammar of the day sentence examples\n",
    "    grammar_sents_eng = re.findall(r'<span class=\"txt_trans ng-binding\" ng-bind-html=\"desc[.]trans.+toHtml\">(.+)</span>', page)\n",
    "    grammar_sents_kor = re.findall(r'<span class=\"txt_origin ng-isolate-scope\" jxb-bind-compiled-html=\"toAutolinkText\\(desc[.]origin\\)\"><span class=\"ng-scope\"><span class=\"u_word_dic\" data-hook=\"tip\" data-type=\"arken\" data-lang=\"ko\">(.+)</span></span>', page)\n",
    "    grammar_sents_kor = list(map(strip_tags, grammar_sents_kor))\n",
    "    \n",
    "    # Creating new DataFrame to append to convo_titles\n",
    "    title_data = {\n",
    "        'date': date,\n",
    "        'kor_title': kor_title,\n",
    "        'eng_title': eng_title,\n",
    "        'grammar': ['. '.join(grammar)],\n",
    "        'grammar_desc': ['. '.join(grammar_desc) if len(grammar_desc) > 0 else '']\n",
    "    }\n",
    "    title = pd.DataFrame(title_data)\n",
    "    \n",
    "#     # Additional columns of title DataFrame\n",
    "#     for i in range(len(grammar_sents_eng)):\n",
    "#         col = f'grammar_kor_sent_{i+1}'\n",
    "#         title[col] = grammar_sents_kor[i]\n",
    "#         col = f'grammar_eng_sent_{i+1}'\n",
    "#         title[col] = grammar_sents_eng[i]\n",
    "    \n",
    "    # Creating new DataFrame to append to convos\n",
    "    convo_data = {\n",
    "        'date': [date for date in [date] for _ in range(len(eng_sents))],\n",
    "        'conversation_id': [id+1 for id, _ in enumerate(eng_sents)],\n",
    "        'kor_sent': kor_sents,\n",
    "        'eng_sent': eng_sents,\n",
    "        'qna_id': ''\n",
    "    }\n",
    "    convo = pd.DataFrame(convo_data)\n",
    "    \n",
    "    # Appending extracted data to convo_titles and convos DataFrames\n",
    "    convo_titles = convo_titles.append(title, ignore_index = True)\n",
    "    convos = convos.append(convo, ignore_index = True)\n",
    "    \n",
    "# Printing shapes\n",
    "print('convos shape:', convos.shape)\n",
    "print('convo_titles shape:', convo_titles.shape)\n",
    "print('Time taken to extract data:', '{:.2f}'.format((time.time() - start_time) / 60))"
   ]
  },
  {
   "cell_type": "markdown",
   "execution_count": null,
   "metadata": {
    "papermill": {
     "duration": 0.032025,
     "end_time": "2020-08-19T16:51:48.442968",
     "exception": false,
     "start_time": "2020-08-19T16:51:48.410943",
     "status": "completed"
    },
    "tags": []
   },
   "source": [
    "Let's take a look at the content of our DataFrames."
   ]
  },
  {
   "cell_type": "code",
   "execution_count": 39,
   "metadata": {
    "execution": {
     "iopub.execute_input": "2020-08-19T16:51:48.528048Z",
     "iopub.status.busy": "2020-08-19T16:51:48.526777Z",
     "iopub.status.idle": "2020-08-19T16:51:48.569597Z",
     "shell.execute_reply": "2020-08-19T16:51:48.570608Z"
    },
    "papermill": {
     "duration": 0.088764,
     "end_time": "2020-08-19T16:51:48.570848",
     "exception": false,
     "start_time": "2020-08-19T16:51:48.482084",
     "status": "completed"
    },
    "tags": []
   },
   "outputs": [
    {
     "data": {
      "text/html": [
       "<div>\n",
       "<style scoped>\n",
       "    .dataframe tbody tr th:only-of-type {\n",
       "        vertical-align: middle;\n",
       "    }\n",
       "\n",
       "    .dataframe tbody tr th {\n",
       "        vertical-align: top;\n",
       "    }\n",
       "\n",
       "    .dataframe thead th {\n",
       "        text-align: right;\n",
       "    }\n",
       "</style>\n",
       "<table border=\"1\" class=\"dataframe\">\n",
       "  <thead>\n",
       "    <tr style=\"text-align: right;\">\n",
       "      <th></th>\n",
       "      <th>date</th>\n",
       "      <th>conversation_id</th>\n",
       "      <th>kor_sent</th>\n",
       "      <th>eng_sent</th>\n",
       "      <th>qna_id</th>\n",
       "    </tr>\n",
       "  </thead>\n",
       "  <tbody>\n",
       "    <tr>\n",
       "      <th>0</th>\n",
       "      <td>20171204</td>\n",
       "      <td>1</td>\n",
       "      <td>안녕하세요?</td>\n",
       "      <td>Hello.</td>\n",
       "      <td></td>\n",
       "    </tr>\n",
       "    <tr>\n",
       "      <th>1</th>\n",
       "      <td>20171204</td>\n",
       "      <td>2</td>\n",
       "      <td>네, 안녕하세요?</td>\n",
       "      <td>Hello.</td>\n",
       "      <td></td>\n",
       "    </tr>\n",
       "    <tr>\n",
       "      <th>2</th>\n",
       "      <td>20171204</td>\n",
       "      <td>3</td>\n",
       "      <td>저는 유양이에요.</td>\n",
       "      <td>I'm Yooyang.</td>\n",
       "      <td></td>\n",
       "    </tr>\n",
       "    <tr>\n",
       "      <th>3</th>\n",
       "      <td>20171204</td>\n",
       "      <td>4</td>\n",
       "      <td>저는 김우빈이에요.</td>\n",
       "      <td>I'm Kim, Woobin.</td>\n",
       "      <td></td>\n",
       "    </tr>\n",
       "    <tr>\n",
       "      <th>4</th>\n",
       "      <td>20171205</td>\n",
       "      <td>1</td>\n",
       "      <td>유양 씨는 중국 사람이에요?</td>\n",
       "      <td>Ms. Yooyang, are you Chinese?</td>\n",
       "      <td></td>\n",
       "    </tr>\n",
       "    <tr>\n",
       "      <th>...</th>\n",
       "      <td>...</td>\n",
       "      <td>...</td>\n",
       "      <td>...</td>\n",
       "      <td>...</td>\n",
       "      <td>...</td>\n",
       "    </tr>\n",
       "    <tr>\n",
       "      <th>2609</th>\n",
       "      <td>20190625</td>\n",
       "      <td>2</td>\n",
       "      <td>은행 금리도 낮거니와 부동산 가격은 너무 비싸서 주식 투자로 몰리는 것 같아요.</td>\n",
       "      <td>It seems like many people are driven to stock ...</td>\n",
       "      <td></td>\n",
       "    </tr>\n",
       "    <tr>\n",
       "      <th>2610</th>\n",
       "      <td>20190625</td>\n",
       "      <td>3</td>\n",
       "      <td>제 친구는 1년 치 연봉으로 모두 주식을 샀대요. 폭락이라도 하면 어떻게 하려고....</td>\n",
       "      <td>My friend said he used up a year's salary to b...</td>\n",
       "      <td></td>\n",
       "    </tr>\n",
       "    <tr>\n",
       "      <th>2611</th>\n",
       "      <td>20190625</td>\n",
       "      <td>4</td>\n",
       "      <td>그렇게 되면 큰 손해를 볼 수도 있지만 요즘은 주가가 상승하고 있어서 괜찮을 것 같아요.</td>\n",
       "      <td>He might suffer a huge loss, but I think it wo...</td>\n",
       "      <td></td>\n",
       "    </tr>\n",
       "    <tr>\n",
       "      <th>2612</th>\n",
       "      <td>20190625</td>\n",
       "      <td>5</td>\n",
       "      <td>그럼, 저도 해 볼까요? 월급만으로 언제 돈을 모아요?</td>\n",
       "      <td>Well, shall I then? It's hard to save money ju...</td>\n",
       "      <td></td>\n",
       "    </tr>\n",
       "    <tr>\n",
       "      <th>2613</th>\n",
       "      <td>20190625</td>\n",
       "      <td>6</td>\n",
       "      <td>주식으로 돈을 벌 수도 있어요. 하지만 신중하게 생각하고 결정하세요.</td>\n",
       "      <td>You can also make money on stocks. But think c...</td>\n",
       "      <td></td>\n",
       "    </tr>\n",
       "  </tbody>\n",
       "</table>\n",
       "<p>2614 rows × 5 columns</p>\n",
       "</div>"
      ],
      "text/plain": [
       "          date conversation_id  \\\n",
       "0     20171204               1   \n",
       "1     20171204               2   \n",
       "2     20171204               3   \n",
       "3     20171204               4   \n",
       "4     20171205               1   \n",
       "...        ...             ...   \n",
       "2609  20190625               2   \n",
       "2610  20190625               3   \n",
       "2611  20190625               4   \n",
       "2612  20190625               5   \n",
       "2613  20190625               6   \n",
       "\n",
       "                                               kor_sent  \\\n",
       "0                                                안녕하세요?   \n",
       "1                                             네, 안녕하세요?   \n",
       "2                                             저는 유양이에요.   \n",
       "3                                            저는 김우빈이에요.   \n",
       "4                                       유양 씨는 중국 사람이에요?   \n",
       "...                                                 ...   \n",
       "2609       은행 금리도 낮거니와 부동산 가격은 너무 비싸서 주식 투자로 몰리는 것 같아요.   \n",
       "2610   제 친구는 1년 치 연봉으로 모두 주식을 샀대요. 폭락이라도 하면 어떻게 하려고....   \n",
       "2611  그렇게 되면 큰 손해를 볼 수도 있지만 요즘은 주가가 상승하고 있어서 괜찮을 것 같아요.   \n",
       "2612                     그럼, 저도 해 볼까요? 월급만으로 언제 돈을 모아요?   \n",
       "2613             주식으로 돈을 벌 수도 있어요. 하지만 신중하게 생각하고 결정하세요.   \n",
       "\n",
       "                                               eng_sent qna_id  \n",
       "0                                                Hello.         \n",
       "1                                                Hello.         \n",
       "2                                          I'm Yooyang.         \n",
       "3                                      I'm Kim, Woobin.         \n",
       "4                         Ms. Yooyang, are you Chinese?         \n",
       "...                                                 ...    ...  \n",
       "2609  It seems like many people are driven to stock ...         \n",
       "2610  My friend said he used up a year's salary to b...         \n",
       "2611  He might suffer a huge loss, but I think it wo...         \n",
       "2612  Well, shall I then? It's hard to save money ju...         \n",
       "2613  You can also make money on stocks. But think c...         \n",
       "\n",
       "[2614 rows x 5 columns]"
      ]
     },
     "execution_count": 39,
     "metadata": {},
     "output_type": "execute_result"
    }
   ],
   "source": [
    "convos"
   ]
  },
  {
   "cell_type": "code",
   "execution_count": 40,
   "metadata": {
    "execution": {
     "iopub.execute_input": "2020-08-19T16:51:48.667104Z",
     "iopub.status.busy": "2020-08-19T16:51:48.665955Z",
     "iopub.status.idle": "2020-08-19T16:51:48.671159Z",
     "shell.execute_reply": "2020-08-19T16:51:48.670354Z"
    },
    "papermill": {
     "duration": 0.059607,
     "end_time": "2020-08-19T16:51:48.671294",
     "exception": false,
     "start_time": "2020-08-19T16:51:48.611687",
     "status": "completed"
    },
    "tags": []
   },
   "outputs": [
    {
     "data": {
      "text/html": [
       "<div>\n",
       "<style scoped>\n",
       "    .dataframe tbody tr th:only-of-type {\n",
       "        vertical-align: middle;\n",
       "    }\n",
       "\n",
       "    .dataframe tbody tr th {\n",
       "        vertical-align: top;\n",
       "    }\n",
       "\n",
       "    .dataframe thead th {\n",
       "        text-align: right;\n",
       "    }\n",
       "</style>\n",
       "<table border=\"1\" class=\"dataframe\">\n",
       "  <thead>\n",
       "    <tr style=\"text-align: right;\">\n",
       "      <th></th>\n",
       "      <th>date</th>\n",
       "      <th>kor_title</th>\n",
       "      <th>eng_title</th>\n",
       "      <th>grammar</th>\n",
       "      <th>grammar_desc</th>\n",
       "    </tr>\n",
       "  </thead>\n",
       "  <tbody>\n",
       "    <tr>\n",
       "      <th>0</th>\n",
       "      <td>20171204</td>\n",
       "      <td>저는 유양이에요.</td>\n",
       "      <td>I'm Yooyang.</td>\n",
       "      <td>N은/는¹ N이에요/예요.</td>\n",
       "      <td>N is the noun. '은/는' is used with a noun to de...</td>\n",
       "    </tr>\n",
       "    <tr>\n",
       "      <th>1</th>\n",
       "      <td>20171205</td>\n",
       "      <td>유양 씨는 중국 사람이에요?</td>\n",
       "      <td>Ms. Yooyang, are you Chinese?</td>\n",
       "      <td>N은/는 N이에요/예요?</td>\n",
       "      <td>It is the interrogative form of 'N은/는 N이에요/예요'.</td>\n",
       "    </tr>\n",
       "    <tr>\n",
       "      <th>2</th>\n",
       "      <td>20171206</td>\n",
       "      <td>저는 학생이 아니에요.</td>\n",
       "      <td>I'm not a student.</td>\n",
       "      <td>N은/는 N이/가¹ 아니에요.</td>\n",
       "      <td>It is the negation of 'N은/는 N이에요/예요'. When the...</td>\n",
       "    </tr>\n",
       "    <tr>\n",
       "      <th>3</th>\n",
       "      <td>20171207</td>\n",
       "      <td>저 사람은 흐엉 씨예요.</td>\n",
       "      <td>That person is Ms. Huong.</td>\n",
       "      <td>이/그/저 N은/는 N이에요/예요.</td>\n",
       "      <td>이' is used in front of a noun to refer to some...</td>\n",
       "    </tr>\n",
       "    <tr>\n",
       "      <th>4</th>\n",
       "      <td>20171208</td>\n",
       "      <td>다니엘 씨는 스티브 씨의 남동생이에요.</td>\n",
       "      <td>Mr. Daniel is Mr. Steve's younger brother.</td>\n",
       "      <td>N은/는 N의 N이에요/예요.</td>\n",
       "      <td>의' is the particle used to make possessive for...</td>\n",
       "    </tr>\n",
       "    <tr>\n",
       "      <th>...</th>\n",
       "      <td>...</td>\n",
       "      <td>...</td>\n",
       "      <td>...</td>\n",
       "      <td>...</td>\n",
       "      <td>...</td>\n",
       "    </tr>\n",
       "    <tr>\n",
       "      <th>483</th>\n",
       "      <td>20190620</td>\n",
       "      <td>채식주의자가 아니더라도 건강을 위해서 만들어 드시면 좋겠어요.</td>\n",
       "      <td>I hope you cook that for your health even if y...</td>\n",
       "      <td>Vst더라도</td>\n",
       "      <td>It is attached to the stem of an action verb o...</td>\n",
       "    </tr>\n",
       "    <tr>\n",
       "      <th>484</th>\n",
       "      <td>20190621</td>\n",
       "      <td>난 무설탕 식품이라고 해서 당분도 안 들어갈뿐더러 몸에도 좋은 줄 알았는데.</td>\n",
       "      <td>I thought these are not only sugar free but al...</td>\n",
       "      <td>Vst을뿐더러/ㄹ뿐더러</td>\n",
       "      <td>It is attached to the stem of an action verb o...</td>\n",
       "    </tr>\n",
       "    <tr>\n",
       "      <th>485</th>\n",
       "      <td>20190622</td>\n",
       "      <td>유통기한이 길다고 다 좋은 건 아니야.</td>\n",
       "      <td>Not all of them are good because they have lon...</td>\n",
       "      <td>Vst는다고/은다고/ㄴ다고 다 Vst는/은/ㄴ 건 아니다</td>\n",
       "      <td>It is attached to the stem of a action verb or...</td>\n",
       "    </tr>\n",
       "    <tr>\n",
       "      <th>486</th>\n",
       "      <td>20190624</td>\n",
       "      <td>지난주에 재테크에 대한 강의를 한다길래 듣고 왔는데 사람들이 정말 많더라고요.</td>\n",
       "      <td>I've been to a lecture about investment techni...</td>\n",
       "      <td>Vst길래</td>\n",
       "      <td>It is attached to the stem of an action verb o...</td>\n",
       "    </tr>\n",
       "    <tr>\n",
       "      <th>487</th>\n",
       "      <td>20190625</td>\n",
       "      <td>은행 금리도 낮거니와 부동산 가격은 너무 비싸서 주식 투자로 몰리는 것 같아요.</td>\n",
       "      <td>It seems like many people are driven to stock ...</td>\n",
       "      <td>N도 Vst거니와</td>\n",
       "      <td>It is attached to the stem of an action verb o...</td>\n",
       "    </tr>\n",
       "  </tbody>\n",
       "</table>\n",
       "<p>488 rows × 5 columns</p>\n",
       "</div>"
      ],
      "text/plain": [
       "         date                                     kor_title  \\\n",
       "0    20171204                                     저는 유양이에요.   \n",
       "1    20171205                               유양 씨는 중국 사람이에요?   \n",
       "2    20171206                                  저는 학생이 아니에요.   \n",
       "3    20171207                                 저 사람은 흐엉 씨예요.   \n",
       "4    20171208                         다니엘 씨는 스티브 씨의 남동생이에요.   \n",
       "..        ...                                           ...   \n",
       "483  20190620            채식주의자가 아니더라도 건강을 위해서 만들어 드시면 좋겠어요.   \n",
       "484  20190621    난 무설탕 식품이라고 해서 당분도 안 들어갈뿐더러 몸에도 좋은 줄 알았는데.   \n",
       "485  20190622                         유통기한이 길다고 다 좋은 건 아니야.   \n",
       "486  20190624   지난주에 재테크에 대한 강의를 한다길래 듣고 왔는데 사람들이 정말 많더라고요.   \n",
       "487  20190625  은행 금리도 낮거니와 부동산 가격은 너무 비싸서 주식 투자로 몰리는 것 같아요.   \n",
       "\n",
       "                                             eng_title  \\\n",
       "0                                         I'm Yooyang.   \n",
       "1                        Ms. Yooyang, are you Chinese?   \n",
       "2                                   I'm not a student.   \n",
       "3                            That person is Ms. Huong.   \n",
       "4           Mr. Daniel is Mr. Steve's younger brother.   \n",
       "..                                                 ...   \n",
       "483  I hope you cook that for your health even if y...   \n",
       "484  I thought these are not only sugar free but al...   \n",
       "485  Not all of them are good because they have lon...   \n",
       "486  I've been to a lecture about investment techni...   \n",
       "487  It seems like many people are driven to stock ...   \n",
       "\n",
       "                             grammar  \\\n",
       "0                     N은/는¹ N이에요/예요.   \n",
       "1                      N은/는 N이에요/예요?   \n",
       "2                   N은/는 N이/가¹ 아니에요.   \n",
       "3                이/그/저 N은/는 N이에요/예요.   \n",
       "4                   N은/는 N의 N이에요/예요.   \n",
       "..                               ...   \n",
       "483                           Vst더라도   \n",
       "484                     Vst을뿐더러/ㄹ뿐더러   \n",
       "485  Vst는다고/은다고/ㄴ다고 다 Vst는/은/ㄴ 건 아니다   \n",
       "486                            Vst길래   \n",
       "487                        N도 Vst거니와   \n",
       "\n",
       "                                          grammar_desc  \n",
       "0    N is the noun. '은/는' is used with a noun to de...  \n",
       "1      It is the interrogative form of 'N은/는 N이에요/예요'.  \n",
       "2    It is the negation of 'N은/는 N이에요/예요'. When the...  \n",
       "3    이' is used in front of a noun to refer to some...  \n",
       "4    의' is the particle used to make possessive for...  \n",
       "..                                                 ...  \n",
       "483  It is attached to the stem of an action verb o...  \n",
       "484  It is attached to the stem of an action verb o...  \n",
       "485  It is attached to the stem of a action verb or...  \n",
       "486  It is attached to the stem of an action verb o...  \n",
       "487  It is attached to the stem of an action verb o...  \n",
       "\n",
       "[488 rows x 5 columns]"
      ]
     },
     "execution_count": 40,
     "metadata": {},
     "output_type": "execute_result"
    }
   ],
   "source": [
    "convo_titles"
   ]
  },
  {
   "cell_type": "markdown",
   "execution_count": null,
   "metadata": {
    "papermill": {
     "duration": 0.279963,
     "end_time": "2020-08-19T16:51:48.984303",
     "exception": false,
     "start_time": "2020-08-19T16:51:48.704340",
     "status": "completed"
    },
    "tags": []
   },
   "source": [
    "Looks good~"
   ]
  },
  {
   "cell_type": "markdown",
   "execution_count": null,
   "metadata": {
    "papermill": {
     "duration": 0.031959,
     "end_time": "2020-08-19T16:51:49.053271",
     "exception": false,
     "start_time": "2020-08-19T16:51:49.021312",
     "status": "completed"
    },
    "tags": []
   },
   "source": [
    "**Save to file: conversations.csv, conversation_titles.csv**"
   ]
  },
  {
   "cell_type": "code",
   "execution_count": 41,
   "metadata": {
    "execution": {
     "iopub.execute_input": "2020-08-19T16:51:49.127015Z",
     "iopub.status.busy": "2020-08-19T16:51:49.126145Z",
     "iopub.status.idle": "2020-08-19T16:51:49.347525Z",
     "shell.execute_reply": "2020-08-19T16:51:49.348242Z"
    },
    "papermill": {
     "duration": 0.262774,
     "end_time": "2020-08-19T16:51:49.348442",
     "exception": false,
     "start_time": "2020-08-19T16:51:49.085668",
     "status": "completed"
    },
    "tags": []
   },
   "outputs": [],
   "source": [
    "# Exporting to CSV files\n",
    "convos.to_csv('conversations.csv', index = False)\n",
    "convo_titles.to_csv('conversation_titles.csv', index = False)"
   ]
  },
  {
   "cell_type": "code",
   "execution_count": 42,
   "metadata": {
    "execution": {
     "iopub.execute_input": "2020-08-19T16:51:49.427451Z",
     "iopub.status.busy": "2020-08-19T16:51:49.426410Z",
     "iopub.status.idle": "2020-08-19T16:51:52.473032Z",
     "shell.execute_reply": "2020-08-19T16:51:52.473663Z"
    },
    "papermill": {
     "duration": 3.092311,
     "end_time": "2020-08-19T16:51:52.473842",
     "exception": false,
     "start_time": "2020-08-19T16:51:49.381531",
     "status": "completed"
    },
    "tags": []
   },
   "outputs": [
    {
     "name": "stdout",
     "output_type": "stream",
     "text": [
      "__notebook__.ipynb  conversation_titles.csv  conversations.csv\tscreenshot.png\r\n"
     ]
    }
   ],
   "source": [
    "# Deleting unwanted files in working directory\n",
    "!rm -rf firefox\n",
    "!rm firefox-79.0.tar.bz2\n",
    "!rm geckodriver.log\n",
    "!ls ../working"
   ]
  },
  {
   "cell_type": "markdown",
   "execution_count": null,
   "metadata": {
    "papermill": {
     "duration": 0.033968,
     "end_time": "2020-08-19T16:51:52.542093",
     "exception": false,
     "start_time": "2020-08-19T16:51:52.508125",
     "status": "completed"
    },
    "tags": []
   },
   "source": [
    "**What's next?**\n",
    "* Automation and scripting: Extracting more data; On-demand data extraction via script\n",
    "* Dataset creation: Making the dataset user-friendly\n",
    "* Applications: I could make tons of flashcards, for now"
   ]
  },
  {
   "cell_type": "markdown",
   "execution_count": null,
   "metadata": {
    "papermill": {
     "duration": 0.034961,
     "end_time": "2020-08-19T16:51:52.611904",
     "exception": false,
     "start_time": "2020-08-19T16:51:52.576943",
     "status": "completed"
    },
    "tags": []
   },
   "source": [
    "# References\n",
    "* [K-MOOC: Python Web Scraping](http://blog.naver.com/PostView.nhn?blogId=powhy123&logNo=221193422772&categoryNo=19&parentCategoryNo=0&viewDate=&currentPage=1&postListTopCurrentPage=1&from=postView)\n",
    "* [Kaggle web scraping via headless Firefox+selenium](https://www.kaggle.com/dierickx3/kaggle-web-scraping-via-headless-firefox-selenium)"
   ]
  }
 ],
 "metadata": {
  "kernelspec": {
   "display_name": "Python 3",
   "language": "python",
   "name": "python3"
  },
  "language_info": {
   "codemirror_mode": {
    "name": "ipython",
    "version": 3
   },
   "file_extension": ".py",
   "mimetype": "text/x-python",
   "name": "python",
   "nbconvert_exporter": "python",
   "pygments_lexer": "ipython3",
   "version": "3.7.6"
  },
  "papermill": {
   "duration": 5393.405272,
   "end_time": "2020-08-19T16:51:52.755814",
   "environment_variables": {},
   "exception": null,
   "input_path": "__notebook__.ipynb",
   "output_path": "__notebook__.ipynb",
   "parameters": {},
   "start_time": "2020-08-19T15:21:59.350542",
   "version": "2.1.0"
  }
 },
 "nbformat": 4,
 "nbformat_minor": 4
}
